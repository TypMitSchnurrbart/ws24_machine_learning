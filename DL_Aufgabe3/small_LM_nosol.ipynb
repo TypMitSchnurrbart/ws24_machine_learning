{
 "cells": [
  {
   "cell_type": "markdown",
   "metadata": {},
   "source": [
    "# Small Language Models\n",
    "\n",
    "This notebook explores several neural network architectures for language modeling tasks. The models are trained on an artificially generated language. \n",
    "\n",
    "## Background and Motivation\n",
    "Training language models on real-world language data often requires extensive computational resources typically found in data centers. To explore the fundamental concepts of language modeling in a more accessible manner, we will use an artificially constructed language. This approach allows us to control complexity, understand the underlying mechanics, and ensure resource efficiency.\n",
    "\n",
    "## Objective\n",
    "Understand, implement, and compare different neural network architectures (RNN, LSTM, Transformer) in language modeling tasks using an artificially generated language.\n",
    "\n",
    "## Tasks\n",
    "1. **Artificial Language Generation for Training**: Generate an initial dataset of sentences using a simple, rule-based grammar (see below).\n",
    "2. **Tokenization**: Convert these sentences into sequences of integers.\n",
    "3. **Model Building**: Implement at least the first 3 models - a basic RNN (required), an LSTM (required), 1DCNN (required) and a Transformer (optional)\n",
    "4. **Training**: Train each model on the artificial language dataset and evaluate the performance of each model while training on the validation set by showing the learning curves for each model and comparing them.\n",
    "\n",
    "You can use the starter code provided below to get started. Feel free to modify the code as you see fit. The architecture of the models is up to you but can be simple. For example for the RNN it might look like this:\n",
    "\n",
    "| Layer (type)            | Output Shape      | Param # |\n",
    "|-------------------------|-------------------|---------|\n",
    "| embedding_1 (Embedding) | (1, 35, 8)        | 200     |\n",
    "| simple_rnn (SimpleRNN)  | (1, 50)           | 2,950   |\n",
    "| dense (Dense)           | (1, 25)           | 1,275   |\n",
    "\n",
    "Important is to choose an appropriate loss function for the next predicted token. In the above example, the vocabulary size is 25."
   ]
  },
  {
   "cell_type": "code",
   "execution_count": 4,
   "metadata": {},
   "outputs": [],
   "source": [
    "import random\n",
    "# Define the grammar rules\n",
    "expanded_grammar = {\n",
    "    'S': [['NP', 'VP'], ['S', 'CONJ', 'S']],\n",
    "    'NP': [['Det', 'ADJ', 'N'], ['Det', 'N'], ['Det', 'N', 'PP']],\n",
    "    'VP': [['V', 'NP'], ['V', 'NP', 'PP'], ['V', 'ADV']],\n",
    "    'PP': [['P', 'NP']],\n",
    "    'Det': ['a', 'the'],\n",
    "    'N': ['cat', 'dog', 'bird', 'tree'],\n",
    "    'V': ['sits', 'runs', 'flies', 'jumps'],\n",
    "    'ADJ': ['big', 'small', 'quick', 'lazy'],\n",
    "    'ADV': ['quickly', 'slowly', 'carefully'],\n",
    "    'P': ['on', 'in', 'under', 'over'],\n",
    "    'CONJ': ['and', 'but', 'or']\n",
    "}\n",
    "\n",
    "def generate_sentence(symbol, depth=0, max_depth=5):\n",
    "    if depth > max_depth:  # Limiting recursion depth\n",
    "        return ''\n",
    "\n",
    "    if symbol not in expanded_grammar:\n",
    "        return symbol\n",
    "\n",
    "    expansion = random.choice(expanded_grammar[symbol])\n",
    "    if isinstance(expansion, list):\n",
    "        return ' '.join([generate_sentence(sym, depth+1, max_depth) for sym in expansion]).strip()\n",
    "    else:\n",
    "        return expansion"
   ]
  },
  {
   "cell_type": "markdown",
   "metadata": {},
   "source": [
    "### Preprocessing the data (Tokenization and Padding)\n",
    "\n",
    "In this first step, we will tokenize the data and pad it to the maximum length of the sentences. "
   ]
  },
  {
   "cell_type": "code",
   "execution_count": 6,
   "metadata": {},
   "outputs": [
    {
     "name": "stdout",
     "output_type": "stream",
     "text": [
      "The first sentence :'the small dog sits a tree on a small cat'\n",
      "The first sentence after tokanization and padding :\n",
      "[ 0  0  0  0  0  0  0  0  0  0  0  0  0  0  0  0  0  0  0  0  0  0  0  0\n",
      "  0  0  1 17  6 12  2  3 14  2 17  5]\n",
      "The first sentence X for training (note the last token is missing):\n",
      "[ 0  0  0  0  0  0  0  0  0  0  0  0  0  0  0  0  0  0  0  0  0  0  0  0\n",
      "  0  0  0  0  0  2  6 20  1  6 11]\n",
      "The first sentence Y for training (note that this is one-hot-encoded):\n",
      "[0. 0. 0. 0. 0. 0. 0. 0. 0. 0. 0. 0. 0. 0. 0. 0. 0. 0. 0. 0. 0. 0. 0. 0.\n",
      " 1.]\n",
      "Shape of X (Batch, T=35, V=25)\n",
      "Shape of X (in code)): (800, 35), shape of y: (800, 25)\n"
     ]
    }
   ],
   "source": [
    "random.seed(42) # For reproducibility\n",
    "import tensorflow as tf\n",
    "from tensorflow.keras.preprocessing.text import Tokenizer\n",
    "from tensorflow.keras.preprocessing.sequence import pad_sequences\n",
    "from tensorflow.keras.utils import to_categorical\n",
    "\n",
    "from sklearn.model_selection import train_test_split\n",
    "\n",
    "# Generating a sentences of sentences\n",
    "num_train = 1000                        # Number of training examples\n",
    "num_test  = 2000                        # Number of test examples\n",
    "num_sentences = num_train + num_test    # Number of sentences to generate\n",
    "sentences = [generate_sentence('S') for _ in range(num_sentences)]\n",
    "\n",
    "# Creating tokens from sentences\n",
    "tokenizer = Tokenizer()\n",
    "tokenizer.fit_on_texts(sentences)\n",
    "sequences = tokenizer.texts_to_sequences(sentences)\n",
    "\n",
    "# Preparing data for model input \n",
    "vocab_size = len(tokenizer.word_index) + 1  # Plus 1 for padding\n",
    "\n",
    "# Pad all sequences to the same length\n",
    "max_length = max(len(s) for s in sequences)\n",
    "sequences = pad_sequences(sequences, maxlen=max_length, padding='pre')\n",
    "\n",
    "# Prepare X, y for training\n",
    "X = sequences[0:num_train,:-1]\n",
    "y = to_categorical(sequences[0:num_train,-1], num_classes=vocab_size)\n",
    "\n",
    "X, X_val, y, y_val = train_test_split(X, y, test_size=0.2)\n",
    "\n",
    "# Prepare X, y for testing\n",
    "X_test = sequences[num_train:,:-1]\n",
    "y_test = to_categorical(sequences[num_train:,-1], num_classes=vocab_size)\n",
    "\n",
    "# The first sentence\n",
    "print(f\"The first sentence :\\'{sentences[0]}\\'\")\n",
    "print(f\"The first sentence after tokanization and padding :\\n{sequences[0]}\")\n",
    "print(f\"The first sentence X for training (note the last token is missing):\\n{X[0]}\") \n",
    "print(f\"The first sentence Y for training (note that this is one-hot-encoded):\\n{y[0]}\") \n",
    "\n",
    "T = X.shape[1]  # Length of input sequence\n",
    "V = y.shape[1]  # Vocabolary size\n",
    "print(f\"Shape of X (Batch, T={T}, V={V})\")\n",
    "print(f\"Shape of X (in code)): {X.shape}, shape of y: {y.shape}\")"
   ]
  },
  {
   "cell_type": "markdown",
   "metadata": {},
   "source": [
    "We have the following shapes\n",
    "\n",
    "**X**\n",
    "Note that `X` is a sparse representation in the code. Instead of one-hot-coding the tokens, we are using the token index. This is a more efficient representation of the data, but conceptually it is the same.\n",
    "\n",
    "**y**\n",
    "y has the same Batch, Vocabulary. It is the one-hot encoded result of the next token. Note that, here are are using the **last predicted word**. This makes it easier in our code but is less efficient. In technical realizations people also use the word for all $t=1..T$ as the targets.\n"
   ]
  },
  {
   "cell_type": "markdown",
   "metadata": {},
   "source": [
    "#### Embedding layer\n",
    "The first step, we do from $X(B,T,V)$ to $X(B,T,C)$ is the embedding layer. This is a simple matrix multiplication. The size of the embedding layer `C` is a hyperparameter."
   ]
  },
  {
   "cell_type": "code",
   "execution_count": 9,
   "metadata": {},
   "outputs": [
    {
     "name": "stdout",
     "output_type": "stream",
     "text": [
      "25/25 [==============================] - 0s 934us/step\n",
      "Shape (800, 35, 8)\n"
     ]
    }
   ],
   "source": [
    "from tensorflow.keras.models import Sequential\n",
    "from tensorflow.keras.layers import Embedding, SimpleRNN, Dense, LSTM, Conv1D, Lambda\n",
    "from keras.optimizers import Adam\n",
    "\n",
    "EMB_DIM = 8  # Embedding dimension (a.k.a. C)\n",
    "emb_model = Sequential()\n",
    "emb_model.add(Embedding(vocab_size, EMB_DIM)) \n",
    "print(f\"Shape {emb_model.predict(X).shape}\")"
   ]
  },
  {
   "cell_type": "markdown",
   "metadata": {},
   "source": [
    "### Further Hints\n",
    "#### Basic RNN\n",
    "\n",
    "In the basic RNN model, you can use the `SimpleRNN` layer. The beginning of the code is given below."
   ]
  },
  {
   "cell_type": "code",
   "execution_count": 12,
   "metadata": {},
   "outputs": [
    {
     "name": "stdout",
     "output_type": "stream",
     "text": [
      "Epoch 1/40\n",
      "25/25 [==============================] - 2s 34ms/step - loss: 3.0098 - accuracy: 0.0950 - val_loss: 2.7617 - val_accuracy: 0.1550\n",
      "Epoch 2/40\n",
      "25/25 [==============================] - 1s 20ms/step - loss: 2.6449 - accuracy: 0.1525 - val_loss: 2.6737 - val_accuracy: 0.0950\n",
      "Epoch 3/40\n",
      "25/25 [==============================] - 1s 21ms/step - loss: 2.5654 - accuracy: 0.1287 - val_loss: 2.6317 - val_accuracy: 0.1550\n",
      "Epoch 4/40\n",
      "25/25 [==============================] - 0s 19ms/step - loss: 2.5246 - accuracy: 0.1538 - val_loss: 2.6293 - val_accuracy: 0.1600\n",
      "Epoch 5/40\n",
      "25/25 [==============================] - 0s 19ms/step - loss: 2.4862 - accuracy: 0.1950 - val_loss: 2.5416 - val_accuracy: 0.2900\n",
      "Epoch 6/40\n",
      "25/25 [==============================] - 0s 17ms/step - loss: 2.4023 - accuracy: 0.2275 - val_loss: 2.4156 - val_accuracy: 0.2350\n",
      "Epoch 7/40\n",
      "25/25 [==============================] - 0s 19ms/step - loss: 2.2545 - accuracy: 0.2087 - val_loss: 2.2782 - val_accuracy: 0.2450\n",
      "Epoch 8/40\n",
      "25/25 [==============================] - 0s 17ms/step - loss: 2.0851 - accuracy: 0.2175 - val_loss: 2.1110 - val_accuracy: 0.2550\n",
      "Epoch 9/40\n",
      "25/25 [==============================] - 1s 23ms/step - loss: 1.9260 - accuracy: 0.2338 - val_loss: 1.9782 - val_accuracy: 0.2500\n",
      "Epoch 10/40\n",
      "25/25 [==============================] - 0s 19ms/step - loss: 1.8087 - accuracy: 0.2400 - val_loss: 1.8575 - val_accuracy: 0.2550\n",
      "Epoch 11/40\n",
      "25/25 [==============================] - 1s 23ms/step - loss: 1.7036 - accuracy: 0.2713 - val_loss: 1.7761 - val_accuracy: 0.2350\n",
      "Epoch 12/40\n",
      "25/25 [==============================] - 1s 23ms/step - loss: 1.6234 - accuracy: 0.3088 - val_loss: 1.7140 - val_accuracy: 0.2550\n",
      "Epoch 13/40\n",
      "25/25 [==============================] - 0s 15ms/step - loss: 1.5670 - accuracy: 0.2950 - val_loss: 1.6641 - val_accuracy: 0.2550\n",
      "Epoch 14/40\n",
      "25/25 [==============================] - 0s 16ms/step - loss: 1.5155 - accuracy: 0.3212 - val_loss: 1.6136 - val_accuracy: 0.2650\n",
      "Epoch 15/40\n",
      "25/25 [==============================] - 1s 27ms/step - loss: 1.4783 - accuracy: 0.3338 - val_loss: 1.5839 - val_accuracy: 0.2850\n",
      "Epoch 16/40\n",
      "25/25 [==============================] - 1s 20ms/step - loss: 1.4481 - accuracy: 0.3225 - val_loss: 1.5548 - val_accuracy: 0.2900\n",
      "Epoch 17/40\n",
      "25/25 [==============================] - 0s 16ms/step - loss: 1.4199 - accuracy: 0.3313 - val_loss: 1.5262 - val_accuracy: 0.2550\n",
      "Epoch 18/40\n",
      "25/25 [==============================] - 0s 18ms/step - loss: 1.3965 - accuracy: 0.3300 - val_loss: 1.5047 - val_accuracy: 0.2650\n",
      "Epoch 19/40\n",
      "25/25 [==============================] - 1s 22ms/step - loss: 1.3770 - accuracy: 0.3550 - val_loss: 1.4786 - val_accuracy: 0.2600\n",
      "Epoch 20/40\n",
      "25/25 [==============================] - 1s 24ms/step - loss: 1.3552 - accuracy: 0.3713 - val_loss: 1.4619 - val_accuracy: 0.2700\n",
      "Epoch 21/40\n",
      "25/25 [==============================] - 0s 18ms/step - loss: 1.3434 - accuracy: 0.3663 - val_loss: 1.4572 - val_accuracy: 0.3000\n",
      "Epoch 22/40\n",
      "25/25 [==============================] - 0s 15ms/step - loss: 1.3294 - accuracy: 0.3762 - val_loss: 1.4391 - val_accuracy: 0.3000\n",
      "Epoch 23/40\n",
      "25/25 [==============================] - 0s 16ms/step - loss: 1.3152 - accuracy: 0.3862 - val_loss: 1.4347 - val_accuracy: 0.2950\n",
      "Epoch 24/40\n",
      "25/25 [==============================] - 1s 22ms/step - loss: 1.3055 - accuracy: 0.3950 - val_loss: 1.4233 - val_accuracy: 0.3200\n",
      "Epoch 25/40\n",
      "25/25 [==============================] - 1s 22ms/step - loss: 1.2940 - accuracy: 0.4025 - val_loss: 1.4186 - val_accuracy: 0.3050\n",
      "Epoch 26/40\n",
      "25/25 [==============================] - 0s 18ms/step - loss: 1.2838 - accuracy: 0.4075 - val_loss: 1.4131 - val_accuracy: 0.3100\n",
      "Epoch 27/40\n",
      "25/25 [==============================] - 0s 14ms/step - loss: 1.2811 - accuracy: 0.3837 - val_loss: 1.4056 - val_accuracy: 0.3100\n",
      "Epoch 28/40\n",
      "25/25 [==============================] - 0s 20ms/step - loss: 1.2694 - accuracy: 0.4112 - val_loss: 1.4046 - val_accuracy: 0.2750\n",
      "Epoch 29/40\n",
      "25/25 [==============================] - 0s 19ms/step - loss: 1.2697 - accuracy: 0.3938 - val_loss: 1.4099 - val_accuracy: 0.2650\n",
      "Epoch 30/40\n",
      "25/25 [==============================] - 0s 20ms/step - loss: 1.2614 - accuracy: 0.4000 - val_loss: 1.4019 - val_accuracy: 0.3050\n",
      "Epoch 31/40\n",
      "25/25 [==============================] - 0s 17ms/step - loss: 1.2440 - accuracy: 0.4238 - val_loss: 1.3978 - val_accuracy: 0.3200\n",
      "Epoch 32/40\n",
      "25/25 [==============================] - 1s 23ms/step - loss: 1.2345 - accuracy: 0.4187 - val_loss: 1.3941 - val_accuracy: 0.3150\n",
      "Epoch 33/40\n",
      "25/25 [==============================] - 0s 16ms/step - loss: 1.2299 - accuracy: 0.4162 - val_loss: 1.3967 - val_accuracy: 0.2900\n",
      "Epoch 34/40\n",
      "25/25 [==============================] - 0s 18ms/step - loss: 1.2256 - accuracy: 0.4375 - val_loss: 1.3956 - val_accuracy: 0.3350\n",
      "Epoch 35/40\n",
      "25/25 [==============================] - 0s 19ms/step - loss: 1.2155 - accuracy: 0.4288 - val_loss: 1.4002 - val_accuracy: 0.3500\n",
      "Epoch 36/40\n",
      "25/25 [==============================] - 1s 22ms/step - loss: 1.2029 - accuracy: 0.4588 - val_loss: 1.3959 - val_accuracy: 0.3150\n",
      "Epoch 37/40\n",
      "25/25 [==============================] - 1s 25ms/step - loss: 1.1917 - accuracy: 0.4712 - val_loss: 1.3968 - val_accuracy: 0.3300\n",
      "Epoch 38/40\n",
      "25/25 [==============================] - 1s 20ms/step - loss: 1.1850 - accuracy: 0.4750 - val_loss: 1.4120 - val_accuracy: 0.3150\n",
      "Epoch 39/40\n",
      "25/25 [==============================] - 1s 20ms/step - loss: 1.1759 - accuracy: 0.4725 - val_loss: 1.4053 - val_accuracy: 0.3100\n",
      "Epoch 40/40\n",
      "25/25 [==============================] - 0s 19ms/step - loss: 1.1659 - accuracy: 0.4712 - val_loss: 1.4106 - val_accuracy: 0.3450\n"
     ]
    }
   ],
   "source": [
    "# RNN Model\n",
    "rnn_model = Sequential()\n",
    "rnn_model.add(Embedding(vocab_size, EMB_DIM, name=\"embedding\"))           # Embedding layer\n",
    "rnn_model.add(SimpleRNN(units=50, input_shape=(1, 35, 8), use_bias=True, name=\"rnn\"))\n",
    "rnn_model.add(Dense(25, activation=\"softmax\", name=\"output_dense\"))\n",
    "\n",
    "rnn_model.compile(optimizer=Adam(learning_rate=0.001),\n",
    "              loss='categorical_crossentropy',\n",
    "              metrics=['accuracy'])\n",
    "\n",
    "rnn_summary = rnn_model.fit(X, y, epochs=40, validation_data=(X_val, y_val))"
   ]
  },
  {
   "cell_type": "markdown",
   "metadata": {},
   "source": [
    "#### LSTM\n",
    "Adpot the code from the basic RNN and replace the `SimpleRNN` layer with an `LSTM` layer. "
   ]
  },
  {
   "cell_type": "code",
   "execution_count": 36,
   "metadata": {},
   "outputs": [
    {
     "ename": "AttributeError",
     "evalue": "Exception encountered when calling layer \"lstm\" (type LSTM).\n\nmodule 'tensorflow._api.v2.compat.v2.__internal__.function' has no attribute 'defun_with_attributes'\n\nCall arguments received by layer \"lstm\" (type LSTM):\n  • inputs=tf.Tensor(shape=(None, 25, 8), dtype=float32)\n  • mask=None\n  • training=None\n  • initial_state=None",
     "output_type": "error",
     "traceback": [
      "\u001b[0;31m---------------------------------------------------------------------------\u001b[0m",
      "\u001b[0;31mAttributeError\u001b[0m                            Traceback (most recent call last)",
      "\u001b[1;32m/home/alex/Documents/HTWG/MLDL/ws24_machine_learning/DL_Aufgabe3/small_LM_nosol.ipynb Cell 11\u001b[0m line \u001b[0;36m4\n\u001b[1;32m      <a href='vscode-notebook-cell:/home/alex/Documents/HTWG/MLDL/ws24_machine_learning/DL_Aufgabe3/small_LM_nosol.ipynb#X16sZmlsZQ%3D%3D?line=1'>2</a>\u001b[0m LSTM_model \u001b[39m=\u001b[39m Sequential()\n\u001b[1;32m      <a href='vscode-notebook-cell:/home/alex/Documents/HTWG/MLDL/ws24_machine_learning/DL_Aufgabe3/small_LM_nosol.ipynb#X16sZmlsZQ%3D%3D?line=2'>3</a>\u001b[0m LSTM_model\u001b[39m.\u001b[39madd(Embedding(vocab_size, EMB_DIM, input_length\u001b[39m=\u001b[39m\u001b[39m25\u001b[39m, name\u001b[39m=\u001b[39m\u001b[39m\"\u001b[39m\u001b[39membedding\u001b[39m\u001b[39m\"\u001b[39m))           \u001b[39m# Embedding layer\u001b[39;00m\n\u001b[0;32m----> <a href='vscode-notebook-cell:/home/alex/Documents/HTWG/MLDL/ws24_machine_learning/DL_Aufgabe3/small_LM_nosol.ipynb#X16sZmlsZQ%3D%3D?line=3'>4</a>\u001b[0m LSTM_model\u001b[39m.\u001b[39;49madd(LSTM(\u001b[39m50\u001b[39;49m, activation\u001b[39m=\u001b[39;49m\u001b[39m\"\u001b[39;49m\u001b[39mtanh\u001b[39;49m\u001b[39m\"\u001b[39;49m, name\u001b[39m=\u001b[39;49m\u001b[39m\"\u001b[39;49m\u001b[39mlstm\u001b[39;49m\u001b[39m\"\u001b[39;49m))\n\u001b[1;32m      <a href='vscode-notebook-cell:/home/alex/Documents/HTWG/MLDL/ws24_machine_learning/DL_Aufgabe3/small_LM_nosol.ipynb#X16sZmlsZQ%3D%3D?line=4'>5</a>\u001b[0m \u001b[39m#LSTM_model.add(Dense(25, activation=\"softmax\", name=\"output_dense\"))\u001b[39;00m\n\u001b[1;32m      <a href='vscode-notebook-cell:/home/alex/Documents/HTWG/MLDL/ws24_machine_learning/DL_Aufgabe3/small_LM_nosol.ipynb#X16sZmlsZQ%3D%3D?line=6'>7</a>\u001b[0m LSTM_model\u001b[39m.\u001b[39mcompile(optimizer\u001b[39m=\u001b[39mAdam(learning_rate\u001b[39m=\u001b[39m\u001b[39m0.001\u001b[39m),\n\u001b[1;32m      <a href='vscode-notebook-cell:/home/alex/Documents/HTWG/MLDL/ws24_machine_learning/DL_Aufgabe3/small_LM_nosol.ipynb#X16sZmlsZQ%3D%3D?line=7'>8</a>\u001b[0m               loss\u001b[39m=\u001b[39m\u001b[39m'\u001b[39m\u001b[39mcategorical_crossentropy\u001b[39m\u001b[39m'\u001b[39m,\n\u001b[1;32m      <a href='vscode-notebook-cell:/home/alex/Documents/HTWG/MLDL/ws24_machine_learning/DL_Aufgabe3/small_LM_nosol.ipynb#X16sZmlsZQ%3D%3D?line=8'>9</a>\u001b[0m               metrics\u001b[39m=\u001b[39m[\u001b[39m'\u001b[39m\u001b[39maccuracy\u001b[39m\u001b[39m'\u001b[39m])\n",
      "File \u001b[0;32m/usr/lib/python3.11/site-packages/tensorflow/python/trackable/base.py:204\u001b[0m, in \u001b[0;36mno_automatic_dependency_tracking.<locals>._method_wrapper\u001b[0;34m(self, *args, **kwargs)\u001b[0m\n\u001b[1;32m    202\u001b[0m \u001b[39mself\u001b[39m\u001b[39m.\u001b[39m_self_setattr_tracking \u001b[39m=\u001b[39m \u001b[39mFalse\u001b[39;00m  \u001b[39m# pylint: disable=protected-access\u001b[39;00m\n\u001b[1;32m    203\u001b[0m \u001b[39mtry\u001b[39;00m:\n\u001b[0;32m--> 204\u001b[0m   result \u001b[39m=\u001b[39m method(\u001b[39mself\u001b[39;49m, \u001b[39m*\u001b[39;49margs, \u001b[39m*\u001b[39;49m\u001b[39m*\u001b[39;49mkwargs)\n\u001b[1;32m    205\u001b[0m \u001b[39mfinally\u001b[39;00m:\n\u001b[1;32m    206\u001b[0m   \u001b[39mself\u001b[39m\u001b[39m.\u001b[39m_self_setattr_tracking \u001b[39m=\u001b[39m previous_value  \u001b[39m# pylint: disable=protected-access\u001b[39;00m\n",
      "File \u001b[0;32m/usr/lib/python3.11/site-packages/keras/utils/traceback_utils.py:70\u001b[0m, in \u001b[0;36mfilter_traceback.<locals>.error_handler\u001b[0;34m(*args, **kwargs)\u001b[0m\n\u001b[1;32m     67\u001b[0m     filtered_tb \u001b[39m=\u001b[39m _process_traceback_frames(e\u001b[39m.\u001b[39m__traceback__)\n\u001b[1;32m     68\u001b[0m     \u001b[39m# To get the full stack trace, call:\u001b[39;00m\n\u001b[1;32m     69\u001b[0m     \u001b[39m# `tf.debugging.disable_traceback_filtering()`\u001b[39;00m\n\u001b[0;32m---> 70\u001b[0m     \u001b[39mraise\u001b[39;00m e\u001b[39m.\u001b[39mwith_traceback(filtered_tb) \u001b[39mfrom\u001b[39;00m \u001b[39mNone\u001b[39;00m\n\u001b[1;32m     71\u001b[0m \u001b[39mfinally\u001b[39;00m:\n\u001b[1;32m     72\u001b[0m     \u001b[39mdel\u001b[39;00m filtered_tb\n",
      "File \u001b[0;32m/usr/lib/python3.11/site-packages/keras/layers/rnn/gru_lstm_utils.py:226\u001b[0m, in \u001b[0;36mgenerate_defun_backend\u001b[0;34m(unique_api_name, preferred_device, func, supportive_attributes)\u001b[0m\n\u001b[1;32m    221\u001b[0m function_attributes \u001b[39m=\u001b[39m {\n\u001b[1;32m    222\u001b[0m     _FUNCTION_API_NAME_ATTRIBUTE: unique_api_name,\n\u001b[1;32m    223\u001b[0m     _FUNCTION_DEVICE_ATTRIBUTE: preferred_device,\n\u001b[1;32m    224\u001b[0m }\n\u001b[1;32m    225\u001b[0m function_attributes\u001b[39m.\u001b[39mupdate(supportive_attributes)\n\u001b[0;32m--> 226\u001b[0m \u001b[39mreturn\u001b[39;00m tf\u001b[39m.\u001b[39;49m__internal__\u001b[39m.\u001b[39;49mfunction\u001b[39m.\u001b[39;49mdefun_with_attributes(\n\u001b[1;32m    227\u001b[0m     func\u001b[39m=\u001b[39mfunc, attributes\u001b[39m=\u001b[39mfunction_attributes, autograph\u001b[39m=\u001b[39m\u001b[39mFalse\u001b[39;00m\n\u001b[1;32m    228\u001b[0m )\n",
      "\u001b[0;31mAttributeError\u001b[0m: Exception encountered when calling layer \"lstm\" (type LSTM).\n\nmodule 'tensorflow._api.v2.compat.v2.__internal__.function' has no attribute 'defun_with_attributes'\n\nCall arguments received by layer \"lstm\" (type LSTM):\n  • inputs=tf.Tensor(shape=(None, 25, 8), dtype=float32)\n  • mask=None\n  • training=None\n  • initial_state=None"
     ]
    }
   ],
   "source": [
    "# LSTM Model\n",
    "LSTM_model = Sequential()\n",
    "LSTM_model.add(Embedding(vocab_size, EMB_DIM, input_length=25, name=\"embedding\"))           # Embedding layer\n",
    "LSTM_model.add(LSTM(50, activation=\"tanh\", name=\"lstm\"))\n",
    "#LSTM_model.add(Dense(25, activation=\"softmax\", name=\"output_dense\"))\n",
    "\n",
    "LSTM_model.compile(optimizer=Adam(learning_rate=0.001),\n",
    "              loss='categorical_crossentropy',\n",
    "              metrics=['accuracy'])\n",
    "\n",
    "LSTM_summary = LSTM_model.fit(X, y, epochs=40, validation_data=(X_val, y_val))"
   ]
  },
  {
   "cell_type": "markdown",
   "metadata": {},
   "source": [
    "\n",
    "#### 1DCNN\n",
    "Start same as LSTM and RNN. Replace the `LSTM` layer with serval `Conv1D` layer as shown in the lecture slides. The last layer should only return a single value. This can be achived with \n",
    "```python\n",
    "cnn_model.add(Lambda(lambda x: x[:, -1, :]))\n",
    "```"
   ]
  },
  {
   "cell_type": "code",
   "execution_count": 28,
   "metadata": {},
   "outputs": [
    {
     "name": "stdout",
     "output_type": "stream",
     "text": [
      "Epoch 1/40\n",
      "25/25 [==============================] - 4s 137ms/step - loss: 3.1056 - accuracy: 0.1363 - val_loss: 2.8969 - val_accuracy: 0.1550\n",
      "Epoch 2/40\n",
      "25/25 [==============================] - 2s 58ms/step - loss: 2.5912 - accuracy: 0.1300 - val_loss: 2.4625 - val_accuracy: 0.2550\n",
      "Epoch 3/40\n",
      "25/25 [==============================] - 1s 38ms/step - loss: 2.1649 - accuracy: 0.2288 - val_loss: 2.0817 - val_accuracy: 0.1800\n",
      "Epoch 4/40\n",
      "25/25 [==============================] - 3s 106ms/step - loss: 1.8467 - accuracy: 0.2425 - val_loss: 1.8831 - val_accuracy: 0.2100\n",
      "Epoch 5/40\n",
      "25/25 [==============================] - 3s 112ms/step - loss: 1.6933 - accuracy: 0.2700 - val_loss: 1.7089 - val_accuracy: 0.2950\n",
      "Epoch 6/40\n",
      "25/25 [==============================] - 2s 87ms/step - loss: 1.5709 - accuracy: 0.3050 - val_loss: 1.6514 - val_accuracy: 0.2400\n",
      "Epoch 7/40\n",
      "25/25 [==============================] - 1s 52ms/step - loss: 1.4919 - accuracy: 0.3113 - val_loss: 1.6312 - val_accuracy: 0.2950\n",
      "Epoch 8/40\n",
      "25/25 [==============================] - 1s 62ms/step - loss: 1.4464 - accuracy: 0.3313 - val_loss: 1.5546 - val_accuracy: 0.2750\n",
      "Epoch 9/40\n",
      "25/25 [==============================] - 4s 148ms/step - loss: 1.3943 - accuracy: 0.3537 - val_loss: 1.5501 - val_accuracy: 0.2800\n",
      "Epoch 10/40\n",
      "25/25 [==============================] - 3s 126ms/step - loss: 1.3630 - accuracy: 0.3462 - val_loss: 1.4926 - val_accuracy: 0.3450\n",
      "Epoch 11/40\n",
      "25/25 [==============================] - 2s 74ms/step - loss: 1.3348 - accuracy: 0.3713 - val_loss: 1.5282 - val_accuracy: 0.3000\n",
      "Epoch 12/40\n",
      "25/25 [==============================] - 2s 95ms/step - loss: 1.3044 - accuracy: 0.3850 - val_loss: 1.4689 - val_accuracy: 0.2800\n",
      "Epoch 13/40\n",
      "25/25 [==============================] - 1s 45ms/step - loss: 1.2764 - accuracy: 0.4013 - val_loss: 1.4366 - val_accuracy: 0.3350\n",
      "Epoch 14/40\n",
      "25/25 [==============================] - 1s 48ms/step - loss: 1.2673 - accuracy: 0.3800 - val_loss: 1.4275 - val_accuracy: 0.3250\n",
      "Epoch 15/40\n",
      "25/25 [==============================] - 1s 57ms/step - loss: 1.2535 - accuracy: 0.3913 - val_loss: 1.4282 - val_accuracy: 0.2850\n",
      "Epoch 16/40\n",
      "25/25 [==============================] - 4s 168ms/step - loss: 1.2317 - accuracy: 0.3975 - val_loss: 1.4097 - val_accuracy: 0.3300\n",
      "Epoch 17/40\n",
      "25/25 [==============================] - 3s 120ms/step - loss: 1.2085 - accuracy: 0.4350 - val_loss: 1.3939 - val_accuracy: 0.3300\n",
      "Epoch 18/40\n",
      "25/25 [==============================] - 2s 92ms/step - loss: 1.2112 - accuracy: 0.4062 - val_loss: 1.4031 - val_accuracy: 0.3200\n",
      "Epoch 19/40\n",
      "25/25 [==============================] - 2s 69ms/step - loss: 1.1875 - accuracy: 0.4363 - val_loss: 1.3942 - val_accuracy: 0.3250\n",
      "Epoch 20/40\n",
      "25/25 [==============================] - 1s 51ms/step - loss: 1.1792 - accuracy: 0.4325 - val_loss: 1.4486 - val_accuracy: 0.2700\n",
      "Epoch 21/40\n",
      "25/25 [==============================] - 2s 93ms/step - loss: 1.1657 - accuracy: 0.4450 - val_loss: 1.4165 - val_accuracy: 0.3150\n",
      "Epoch 22/40\n",
      "25/25 [==============================] - 3s 110ms/step - loss: 1.1660 - accuracy: 0.4475 - val_loss: 1.4184 - val_accuracy: 0.3050\n",
      "Epoch 23/40\n",
      "25/25 [==============================] - 2s 65ms/step - loss: 1.1548 - accuracy: 0.4487 - val_loss: 1.4122 - val_accuracy: 0.3050\n",
      "Epoch 24/40\n",
      "25/25 [==============================] - 4s 154ms/step - loss: 1.1416 - accuracy: 0.4712 - val_loss: 1.4435 - val_accuracy: 0.3100\n",
      "Epoch 25/40\n",
      "25/25 [==============================] - 3s 113ms/step - loss: 1.1423 - accuracy: 0.4688 - val_loss: 1.4401 - val_accuracy: 0.3250\n",
      "Epoch 26/40\n",
      "25/25 [==============================] - 2s 60ms/step - loss: 1.1408 - accuracy: 0.4575 - val_loss: 1.3963 - val_accuracy: 0.3300\n",
      "Epoch 27/40\n",
      "25/25 [==============================] - 2s 94ms/step - loss: 1.1243 - accuracy: 0.4525 - val_loss: 1.4079 - val_accuracy: 0.3600\n",
      "Epoch 28/40\n",
      "25/25 [==============================] - 3s 111ms/step - loss: 1.1113 - accuracy: 0.4800 - val_loss: 1.4797 - val_accuracy: 0.3150\n",
      "Epoch 29/40\n",
      "25/25 [==============================] - 4s 170ms/step - loss: 1.1094 - accuracy: 0.4913 - val_loss: 1.4444 - val_accuracy: 0.3150\n",
      "Epoch 30/40\n",
      "25/25 [==============================] - 3s 130ms/step - loss: 1.0898 - accuracy: 0.4913 - val_loss: 1.4655 - val_accuracy: 0.3050\n",
      "Epoch 31/40\n",
      "25/25 [==============================] - 2s 99ms/step - loss: 1.0947 - accuracy: 0.4913 - val_loss: 1.4795 - val_accuracy: 0.3150\n",
      "Epoch 32/40\n",
      "25/25 [==============================] - 3s 132ms/step - loss: 1.0767 - accuracy: 0.5088 - val_loss: 1.4777 - val_accuracy: 0.3100\n",
      "Epoch 33/40\n",
      "25/25 [==============================] - 1s 37ms/step - loss: 1.0678 - accuracy: 0.5163 - val_loss: 1.4961 - val_accuracy: 0.3650\n",
      "Epoch 34/40\n",
      "25/25 [==============================] - 3s 125ms/step - loss: 1.0697 - accuracy: 0.5100 - val_loss: 1.5671 - val_accuracy: 0.3050\n",
      "Epoch 35/40\n",
      "25/25 [==============================] - 2s 64ms/step - loss: 1.0466 - accuracy: 0.5225 - val_loss: 1.5665 - val_accuracy: 0.2900\n",
      "Epoch 36/40\n",
      "25/25 [==============================] - 3s 114ms/step - loss: 1.0471 - accuracy: 0.5250 - val_loss: 1.5351 - val_accuracy: 0.3100\n",
      "Epoch 37/40\n",
      "25/25 [==============================] - 2s 91ms/step - loss: 1.0259 - accuracy: 0.5437 - val_loss: 1.5448 - val_accuracy: 0.3200\n",
      "Epoch 38/40\n",
      "25/25 [==============================] - 3s 127ms/step - loss: 1.0218 - accuracy: 0.5462 - val_loss: 1.6035 - val_accuracy: 0.3150\n",
      "Epoch 39/40\n",
      "25/25 [==============================] - 3s 113ms/step - loss: 1.0213 - accuracy: 0.5462 - val_loss: 1.6371 - val_accuracy: 0.2950\n",
      "Epoch 40/40\n",
      "25/25 [==============================] - 2s 78ms/step - loss: 1.0360 - accuracy: 0.5325 - val_loss: 1.6033 - val_accuracy: 0.3300\n"
     ]
    }
   ],
   "source": [
    "# RNN Model\n",
    "cnn_model = Sequential()\n",
    "cnn_model.add(Embedding(vocab_size, EMB_DIM, name=\"embedding\"))           # Embedding layer\n",
    "cnn_model.add(Conv1D(filters=32, kernel_size=2, padding=\"causal\", dilation_rate=1))\n",
    "cnn_model.add(Conv1D(filters=32, kernel_size=2, padding=\"causal\", dilation_rate=2))\n",
    "cnn_model.add(Conv1D(filters=32, kernel_size=2, padding=\"causal\", dilation_rate=4))\n",
    "cnn_model.add(Conv1D(filters=32, kernel_size=2, padding=\"causal\", dilation_rate=8))\n",
    "cnn_model.add(Dense(25, activation=\"softmax\"))\n",
    "cnn_model.add(Lambda(lambda x: x[:, -1, :]))\n",
    "\n",
    "cnn_model.compile(optimizer=Adam(learning_rate=0.001),\n",
    "              loss='categorical_crossentropy',\n",
    "              metrics=['accuracy'])\n",
    "\n",
    "cnn_summary = cnn_model.fit(X, y, epochs=40, validation_data=(X_val, y_val))"
   ]
  },
  {
   "cell_type": "code",
   "execution_count": 29,
   "metadata": {},
   "outputs": [
    {
     "data": {
      "image/png": "[encoded data removed]",
      "text/plain": [
       "<Figure size 640x480 with 1 Axes>"
      ]
     },
     "metadata": {},
     "output_type": "display_data"
    },
    {
     "data": {
      "image/png": "[encoded data removed]",
      "text/plain": [
       "<Figure size 640x480 with 1 Axes>"
      ]
     },
     "metadata": {},
     "output_type": "display_data"
    }
   ],
   "source": [
    "import matplotlib.pyplot as plt\n",
    "\n",
    "## Visualize\n",
    "plt.plot(rnn_summary.history['loss'], label='Train')\n",
    "plt.plot(rnn_summary.history['val_loss'], label='Validation')\n",
    "plt.title('RNN Performance')\n",
    "plt.xlabel('Epoch')\n",
    "plt.ylabel('Loss')\n",
    "plt.legend()\n",
    "plt.show()\n",
    "\n",
    "\"\"\"\n",
    "plt.plot(LSTM_summary.history['loss'], label='Train')\n",
    "plt.plot(LSTM_summary.history['val_loss'], label='Validation')\n",
    "plt.title('LSTM Performance')\n",
    "plt.xlabel('Epoch')\n",
    "plt.ylabel('Loss')\n",
    "plt.legend()\n",
    "plt.show()\n",
    "\"\"\"\n",
    "\n",
    "\n",
    "plt.plot(cnn_summary.history['loss'], label='Train')\n",
    "plt.plot(cnn_summary.history['val_loss'], label='Validation')\n",
    "plt.title('CNN Performance')\n",
    "plt.xlabel('Epoch')\n",
    "plt.ylabel('Loss')\n",
    "plt.legend()\n",
    "plt.show()"
   ]
  }
 ],
 "metadata": {
  "kernelspec": {
   "display_name": "mldl_htwg",
   "language": "python",
   "name": "python3"
  },
  "language_info": {
   "codemirror_mode": {
    "name": "ipython",
    "version": 3
   },
   "file_extension": ".py",
   "mimetype": "text/x-python",
   "name": "python",
   "nbconvert_exporter": "python",
   "pygments_lexer": "ipython3",
   "version": "3.11.6"
  }
 },
 "nbformat": 4,
 "nbformat_minor": 2
}
