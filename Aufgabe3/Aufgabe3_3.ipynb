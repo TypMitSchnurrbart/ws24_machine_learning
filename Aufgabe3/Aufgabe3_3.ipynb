{
 "cells": [
  {
   "cell_type": "code",
   "execution_count": 18,
   "metadata": {},
   "outputs": [],
   "source": [
    "import numpy as np\n",
    "import sklearn\n",
    "import random\n",
    "import math\n",
    "from sklearn import datasets\n",
    "from sklearn import model_selection\n",
    "from sklearn.model_selection import GridSearchCV\n",
    "import matplotlib.pyplot as plt\n",
    "from sklearn import svm\n",
    "from sklearn.ensemble import RandomForestClassifier, GradientBoostingClassifier\n",
    "from sklearn.metrics import accuracy_score\n",
    "\n",
    "%matplotlib inline"
   ]
  },
  {
   "cell_type": "markdown",
   "metadata": {},
   "source": [
    "Get Data"
   ]
  },
  {
   "cell_type": "code",
   "execution_count": 2,
   "metadata": {},
   "outputs": [],
   "source": [
    "digits = datasets.load_digits()"
   ]
  },
  {
   "cell_type": "markdown",
   "metadata": {},
   "source": [
    " Wiederholen Sie Aufgabe 1 b mit einem Random Forest. Teilen Sie dazu den Datensatz wieder in einen Trainings- und Testdatensatz. Bestimmen Sie den Fehler auf den Testdaten und vergleichen Sie ihn mit dem ”out of bag”-Fehler."
   ]
  },
  {
   "cell_type": "code",
   "execution_count": 10,
   "metadata": {},
   "outputs": [],
   "source": [
    "train_data, test_data, train_label, test_label = model_selection.train_test_split(digits.data, digits.target, test_size=0.25)"
   ]
  },
  {
   "cell_type": "code",
   "execution_count": 14,
   "metadata": {},
   "outputs": [
    {
     "name": "stdout",
     "output_type": "stream",
     "text": [
      "Testfehler:\t\t 0.0156\n",
      "Out-of-Bag Fehler:\t 0.0364\n"
     ]
    }
   ],
   "source": [
    "# RandomForrestClassifier von sklearn.ensemble\n",
    "rf_classifier = RandomForestClassifier(n_estimators=100, random_state=42, oob_score=True)\n",
    "\n",
    "# Training des Modells\n",
    "rf_classifier.fit(train_data, train_label)\n",
    "\n",
    "# Vorhersage auf den Testdaten\n",
    "predictions = rf_classifier.predict(test_data)\n",
    "\n",
    "# Berechnung des Fehlers auf den Testdaten\n",
    "test_error = 1 - accuracy_score(test_label, predictions)\n",
    "\n",
    "# \"Out-of-Bag\" Fehler\n",
    "oob_error = 1 - rf_classifier.oob_score_\n",
    "\n",
    "# Ausgabe der Ergebnisse\n",
    "print(f\"Testfehler:\\t\\t {test_error:.4f}\")\n",
    "print(f\"Out-of-Bag Fehler:\\t {oob_error:.4f}\")"
   ]
  },
  {
   "cell_type": "markdown",
   "metadata": {},
   "source": [
    "<h1>Boosting Verfahren<h1>\n"
   ]
  },
  {
   "cell_type": "code",
   "execution_count": 17,
   "metadata": {},
   "outputs": [
    {
     "name": "stdout",
     "output_type": "stream",
     "text": [
      "Testfehler: 0.0244\n"
     ]
    }
   ],
   "source": [
    "# GradientBoostingClassifier von sklearn.ensemble\n",
    "gb_classifier = GradientBoostingClassifier(n_estimators=100, random_state=42)\n",
    "\n",
    "# Training des Modells\n",
    "gb_classifier.fit(train_data, train_label)\n",
    "\n",
    "# Vorhersage auf den Testdaten\n",
    "predictions = gb_classifier.predict(test_data)\n",
    "\n",
    "# Berechnung des Fehlers auf den Testdaten\n",
    "test_error = 1 - accuracy_score(test_label, predictions)\n",
    "\n",
    "# Ausgabe des Ergebnisses\n",
    "print(f\"Testfehler: {test_error:.4f}\")"
   ]
  },
  {
   "cell_type": "markdown",
   "metadata": {},
   "source": [
    "<h1> Aufgabe 3.3 c) </h1>\n",
    "Finden Sie optimale Hyperparameter"
   ]
  },
  {
   "cell_type": "code",
   "execution_count": 23,
   "metadata": {},
   "outputs": [
    {
     "name": "stdout",
     "output_type": "stream",
     "text": [
      "Beste Hyperparameter: {'learning_rate': 0.001, 'max_depth': 10, 'n_estimators': 100}\n",
      "Testfehler mit den besten Hyperparametern: 0.1511\n"
     ]
    }
   ],
   "source": [
    "# Hyperparameter-Raster für den Gradient Boosting Classifier\n",
    "gb_params = {\n",
    "    'n_estimators': [100],\n",
    "    'learning_rate': [0.001],\n",
    "    'max_depth': [10]\n",
    "}\n",
    "\n",
    "# Initialisierung des Gradient Boosting Klassifikators\n",
    "gb_classifier = GradientBoostingClassifier(random_state=42)\n",
    "\n",
    "# Gittersuche\n",
    "grid_search = GridSearchCV(gb_classifier, gb_params, cv=3, scoring='accuracy')\n",
    "grid_search.fit(train_data, train_label)\n",
    "\n",
    "# Beste Hyperparameter\n",
    "best_params = grid_search.best_params_\n",
    "print(\"Beste Hyperparameter:\", best_params)\n",
    "\n",
    "# Vorhersage auf den Testdaten mit den besten Hyperparametern\n",
    "best_gb_classifier = grid_search.best_estimator_\n",
    "predictions = best_gb_classifier.predict(test_data)\n",
    "\n",
    "# Berechnung des Fehlers auf den Testdaten\n",
    "test_error = 1 - accuracy_score(test_label, predictions)\n",
    "\n",
    "# Ausgabe des Ergebnisses\n",
    "print(f\"Testfehler mit den besten Hyperparametern: {test_error:.4f}\")"
   ]
  }
 ],
 "metadata": {
  "kernelspec": {
   "display_name": "Python 3",
   "language": "python",
   "name": "python3"
  },
  "language_info": {
   "codemirror_mode": {
    "name": "ipython",
    "version": 3
   },
   "file_extension": ".py",
   "mimetype": "text/x-python",
   "name": "python",
   "nbconvert_exporter": "python",
   "pygments_lexer": "ipython3",
   "version": "3.9.5"
  }
 },
 "nbformat": 4,
 "nbformat_minor": 2
}
