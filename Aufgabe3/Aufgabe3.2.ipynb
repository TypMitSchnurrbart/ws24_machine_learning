{
 "cells": [
  {
   "cell_type": "markdown",
   "source": [
    "## 2. Kreuzvalidierung und Modellselektion\n",
    "\n",
    "Bei der Methode der Kreuzvalidierung wird der zufällige Split in Trainings- und Testdatensatz aus Aufgabe 1 mehrere Male wiederholt und der Durchschnitt über mehrere Splits berechnet, um eine genauere Schätzung der wirklichen Treffergenauigkeit zu erhalten. *Scikit Learn* stellt dafür bereits eine vordefinierte Methode zur Verfügung: `sklearn.model_selection`. Die Methode verwendet die Iteratorsyntax von Python, Beispiele zur Verwendung finden Sie in der Dokumentation dieser Methode. `ShuffleSplit()` erzeugt einen Satz von permutierten Indizes von Trainings- und Testdaten.\n",
    "\n",
    "Aufgaben:"
   ],
   "metadata": {
    "collapsed": false
   },
   "id": "84571c5f550414f8"
  },
  {
   "cell_type": "markdown",
   "source": [
    "a) Erzeugen Sie zunächst 3 Sätze und trainieren Sie für jeden Satz eine SVM mit $\\gamma = 0.001$ und $C = 1$ und geben Sie jeweils die Treffergenauigkeit für Trainings- und Testdatensatz aus. Die Ergebnisse sollten ähnlich wie in Aufgabe 1b aussehen."
   ],
   "metadata": {
    "collapsed": false
   },
   "id": "c9aa65a68d2ae40c"
  },
  {
   "cell_type": "code",
   "execution_count": 64,
   "outputs": [],
   "source": [
    "### 3.2 a)\n",
    "from sklearn import datasets\n",
    "\n",
    "# Get the data\n",
    "digits = datasets.load_digits()"
   ],
   "metadata": {
    "collapsed": false,
    "ExecuteTime": {
     "end_time": "2023-11-18T14:06:51.233301Z",
     "start_time": "2023-11-18T14:06:51.077052100Z"
    }
   },
   "id": "7e29c188e022134c"
  },
  {
   "cell_type": "code",
   "execution_count": 65,
   "outputs": [
    {
     "name": "stdout",
     "output_type": "stream",
     "text": [
      "\n",
      "    Model 0:\n",
      "    Score on Train:\t1.0\n",
      "    Score on Test:\t0.993\n",
      "    \n",
      "\n",
      "    Model 1:\n",
      "    Score on Train:\t1.0\n",
      "    Score on Test:\t0.989\n",
      "    \n",
      "\n",
      "    Model 2:\n",
      "    Score on Train:\t1.0\n",
      "    Score on Test:\t0.989\n",
      "    \n"
     ]
    }
   ],
   "source": [
    "from sklearn import model_selection, svm\n",
    "\n",
    "for i in range(3):\n",
    "    train_data, test_data, train_label, test_label = model_selection.train_test_split(digits.data, digits.target, test_size=0.25)\n",
    "    clf = svm.SVC(C=100.0, gamma=0.001, kernel=\"rbf\")\n",
    "    clf.fit(train_data, train_label)\n",
    "        \n",
    "    print(f\"\"\"\n",
    "    Model {i}:\n",
    "    Score on Train:\\t{round(clf.score(train_data, train_label), 3)}\n",
    "    Score on Test:\\t{round(clf.score(test_data, test_label), 3)}\n",
    "    \"\"\")"
   ],
   "metadata": {
    "collapsed": false,
    "ExecuteTime": {
     "end_time": "2023-11-18T14:06:53.073497100Z",
     "start_time": "2023-11-18T14:06:51.139554400Z"
    }
   },
   "id": "576b51c9a946ce0d"
  },
  {
   "cell_type": "markdown",
   "source": [
    "b) Statt wie in 2a von Hand vorzugehen gibt es in *Scikit Learn* die bereits vordefinierte Methode `sklearn.model_selection.cross_val_score()`. Wiederholen Sie Ihr Experiment aus Aufgabe 2a mit 10 Zufallssplits und geben Sie jeweils die Treffergenauigkeit auf dem Testdatensatz aus. Berechnen Sie die mittlere Treffergenauigkeit (die **Kreuzvalidierungsgenauigkeit**) und die Standardabweichung des Mittelwerts."
   ],
   "metadata": {
    "collapsed": false
   },
   "id": "490402c8e7cd76a4"
  },
  {
   "cell_type": "code",
   "execution_count": 66,
   "outputs": [
    {
     "name": "stdout",
     "output_type": "stream",
     "text": [
      "\n",
      "Cross Validation Scores:\n",
      "Kreuzvalidierungsgenauigkeit:\t0.971\n",
      "Standardabweichung:\t\t\t\t0.024\n"
     ]
    }
   ],
   "source": [
    "### 3.2 b)\n",
    "train_data, test_data, train_label, test_label = model_selection.train_test_split(digits.data, digits.target, test_size=0.25)\n",
    "\n",
    "clf = svm.SVC(C=100.0, gamma=0.001, kernel=\"rbf\")\n",
    "scores = model_selection.cross_val_score(estimator=clf,\n",
    "                                         X=test_data,\n",
    "                                         y=test_label,\n",
    "                                         cv=10)\n",
    "\n",
    "print(f\"\"\"\n",
    "Cross Validation Scores:\n",
    "Kreuzvalidierungsgenauigkeit:\\t{round(scores.mean(), 3)}\n",
    "Standardabweichung:\\t\\t\\t\\t{round(scores.std(), 3)}\n",
    "\"\"\")"
   ],
   "metadata": {
    "collapsed": false,
    "ExecuteTime": {
     "end_time": "2023-11-18T14:06:53.312458Z",
     "start_time": "2023-11-18T14:06:53.073497100Z"
    }
   },
   "id": "5760e000326abba6"
  },
  {
   "cell_type": "markdown",
   "source": [
    "c) Mithilfe der Kreuzvalidierungsgenauigkeit können die optimalen $\\gamma$- und $C$-Parameter der SVM automatisch gefunden werden. Dieser Vorgang heißt Modellselektion. Man führt zu diesem Zweck eine Gittersuche durch: zunächst wird ein Satz von Werten für $\\gamma$ und $C$ festgelegt. Für alle Wertepaare wird die Kreuzvalidierungsgenauigkeit bestimmt und dann\n",
    "die Parameter gewählt, die die höchste Treffergenauigkeit erzielen. Finden Sie auf diese Weise für $C = 10$ den besten Gammawert aus einem Satz von 10 logarithmisch skalierten Gammawerten, erzeugt mit"
   ],
   "metadata": {
    "collapsed": false
   },
   "id": "92749f0f31f73ed5"
  },
  {
   "cell_type": "code",
   "execution_count": 67,
   "outputs": [
    {
     "data": {
      "text/plain": "array([1.00000000e-07, 4.64158883e-07, 2.15443469e-06, 1.00000000e-05,\n       4.64158883e-05, 2.15443469e-04, 1.00000000e-03, 4.64158883e-03,\n       2.15443469e-02, 1.00000000e-01])"
     },
     "execution_count": 67,
     "metadata": {},
     "output_type": "execute_result"
    }
   ],
   "source": [
    "### 3.2 c)\n",
    "import numpy as np\n",
    "gammas = np.logspace(-7, -1, 10)\n",
    "gammas"
   ],
   "metadata": {
    "collapsed": false,
    "ExecuteTime": {
     "end_time": "2023-11-18T14:06:53.371601300Z",
     "start_time": "2023-11-18T14:06:53.315549300Z"
    }
   },
   "id": "5868fc5a013c8dd6"
  },
  {
   "cell_type": "markdown",
   "source": [
    "Verwenden Sie dazu eine Trainings- und Testdatensatzgröße von 500 und 5 Splits (s. Dokumentation von `ShuffleSplit`) und speichern Sie die Treffergenauigkeit auf dem Trainings- und Testdatensatz für jeden Gammawert und Split. Plotten Sie die Treffergenauigkeitskurve für jeden Split mit dem Gammawert als Abszisse in einem gemeinsamen Diagramm, jeweils für die Trainings- und die Testdaten. Diese Kurven werden **Validierungskurven** genannt\n",
    "(s.u.). Für welche Gammawerte erhalten Sie Underfitting, für welche Overfitting? Wo liegt der optimale Gammawert?\n",
    "\n",
    "<img src=\"validierungskurve.png\" alt=\"drawing\" width=\"500\"/>"
   ],
   "metadata": {
    "collapsed": false
   },
   "id": "f1299310d5e33cbe"
  },
  {
   "cell_type": "code",
   "execution_count": 68,
   "outputs": [
    {
     "name": "stdout",
     "output_type": "stream",
     "text": [
      "Fold 0...\n",
      "Fold 1...\n",
      "Fold 2...\n",
      "Fold 3...\n",
      "Fold 4...\n"
     ]
    }
   ],
   "source": [
    "results_train = []\n",
    "results_test = []\n",
    "\n",
    "rs = model_selection.ShuffleSplit(n_splits=5, train_size=500, test_size=500, random_state=0)\n",
    "for i, (train_index, test_index) in enumerate(rs.split(digits.data)):\n",
    "    print(f\"Fold {i}...\")\n",
    "    \n",
    "    train_data = digits.data[train_index]\n",
    "    train_label = digits.target[train_index]\n",
    "    test_data = digits.data[test_index]\n",
    "    test_label = digits.target[test_index]\n",
    "    \n",
    "    scores_train = []\n",
    "    scores_test = []\n",
    "    \n",
    "    for g in gammas:\n",
    "        clf = svm.SVC(C=10.0, gamma=g, kernel=\"rbf\")\n",
    "        clf.fit(train_data, train_label)\n",
    "        \n",
    "        scores_train.append(clf.score(train_data, train_label))\n",
    "        scores_test.append(clf.score(test_data, test_label))\n",
    "    \n",
    "    results_train.append(scores_train)\n",
    "    results_test.append(scores_test)"
   ],
   "metadata": {
    "collapsed": false,
    "ExecuteTime": {
     "end_time": "2023-11-18T14:06:58.354434100Z",
     "start_time": "2023-11-18T14:06:53.333251800Z"
    }
   },
   "id": "1ecfce41891a23a4"
  },
  {
   "cell_type": "code",
   "execution_count": 69,
   "outputs": [
    {
     "data": {
      "text/plain": "<Figure size 640x480 with 1 Axes>",
      "image/png": "[encoded data removed]"
     },
     "metadata": {},
     "output_type": "display_data"
    }
   ],
   "source": [
    "from matplotlib import pyplot as plt\n",
    "\n",
    "# Plot the results for train and test\n",
    "for _, (scores_tr, scores_te) in enumerate(zip(results_train, results_test)):\n",
    "    plt.plot(gammas, scores_tr)\n",
    "    plt.plot(gammas, scores_te)\n",
    "plt.xlim(-0.001, 1e-2)\n",
    "plt.legend(np.around(gammas, 7))\n",
    "plt.title(\"Validation curves for the gamma parameter\")\n",
    "plt.xlabel(\"gamma\")\n",
    "plt.ylabel(\"score for SVC(C=10, gamma=gamma)\")\n",
    "plt.grid(True)\n",
    "plt.show()"
   ],
   "metadata": {
    "collapsed": false,
    "ExecuteTime": {
     "end_time": "2023-11-18T14:06:58.835078600Z",
     "start_time": "2023-11-18T14:06:58.370393Z"
    }
   },
   "id": "cb67ddf01999ddd1"
  },
  {
   "cell_type": "markdown",
   "source": [
    "d) Die Gittersuche lässt sich ebenfalls automatisieren mit `sklearn.model_selection. GridSearchCV()`. Wir erzeugen dazu ein Gitter aus Wertepaaren für $\\gamma$ und $C$ mit dem Dictionary"
   ],
   "metadata": {
    "collapsed": false
   },
   "id": "b3a23262927f0723"
  },
  {
   "cell_type": "code",
   "execution_count": 70,
   "outputs": [],
   "source": [
    "svc_params = {\n",
    "    'C': np.logspace(-1, 2, 4),\n",
    "    'gamma': np.logspace(-4, 0, 5), \n",
    "}"
   ],
   "metadata": {
    "collapsed": false,
    "ExecuteTime": {
     "end_time": "2023-11-18T14:06:58.853293800Z",
     "start_time": "2023-11-18T14:06:58.835078600Z"
    }
   },
   "id": "2fe019a71075e950"
  },
  {
   "cell_type": "markdown",
   "source": [
    "Dieses Gitter kann direkt an `GridSearchCV()` als Argument `param_grid` übergeben werden. Da diese Prozedur sehr zeitaufwendig ist, verkleinern wie den Datensatz auf die ersten 500 Beispiele. Führen Sie für diesen verkleinerten Datensatz eine Gittersuche mithilfe von `GridSearchCV()` und jeweils 3 Splits (Parameter `cv`) durch. Den besten Parametersatz erhalten Sie mit `GridSearchCV().best_params_`, die höchste Treffergenauigkeit mit `GridSearchCV().best_score_`. Ausführliche Informationen zu jedem Parameterwertepaar stehen in dem Dictionary `GridSearchCV().cv_results_`. Nach der Gittersuche führt `GridSearchCV()` noch ein Training auf dem gesamten Datensatz mit den besten Parametern durch, so dass die resultierende Maschine sofort eingesetzt werden kann. Testen Sie diese Maschine auf den übriggebliebenen Daten."
   ],
   "metadata": {
    "collapsed": false
   },
   "id": "d88c5c258e1ec670"
  },
  {
   "cell_type": "code",
   "execution_count": 71,
   "outputs": [
    {
     "name": "stdout",
     "output_type": "stream",
     "text": [
      "\n",
      "Best Params:\t{'C': 100.0, 'gamma': 0.0001}\n",
      "Best Score:\t\t0.9219031815886299\n",
      "Score on Test data:\t0.9414032382420972\n"
     ]
    }
   ],
   "source": [
    "svc = svm.SVC(kernel=\"rbf\")\n",
    "clf = model_selection.GridSearchCV(estimator=svc, param_grid=svc_params, cv=3)\n",
    "clf.fit(digits.data[:500], digits.target[:500])\n",
    "\n",
    "print(f\"\"\"\n",
    "Best Params:\\t{clf.best_params_}\n",
    "Best Score:\\t\\t{clf.best_score_}\n",
    "Score on Test data:\\t{clf.score(digits.data[500:], digits.target[500:])}\n",
    "\"\"\")"
   ],
   "metadata": {
    "collapsed": false,
    "ExecuteTime": {
     "end_time": "2023-11-18T14:07:09.819954600Z",
     "start_time": "2023-11-18T14:06:58.853293800Z"
    }
   },
   "id": "5c26f8cd118d6a92"
  },
  {
   "cell_type": "code",
   "execution_count": 72,
   "outputs": [
    {
     "name": "stdout",
     "output_type": "stream",
     "text": [
      "Detailed results:\n",
      "{'mean_fit_time': array([0.02603793, 0.01562444, 0.04166993, 0.02603642, 0.03402535,\n",
      "       0.01042056, 0.01562413, 0.02604135, 0.02604183, 0.03125366,\n",
      "       0.01561968, 0.01562349, 0.01563875, 0.03123879, 0.03126184,\n",
      "       0.00579675, 0.01356339, 0.0163397 , 0.01563803, 0.02086242]), 'std_fit_time': array([7.36946083e-03, 2.17064226e-06, 3.68304023e-02, 7.36198808e-03,\n",
      "       9.56259000e-03, 7.36845011e-03, 1.75561285e-06, 7.36615416e-03,\n",
      "       7.36580803e-03, 1.27569826e-02, 6.71627954e-06, 3.32206060e-05,\n",
      "       1.70879585e-05, 1.17576866e-05, 2.87617099e-05, 8.19784301e-03,\n",
      "       1.52262654e-03, 9.84274566e-04, 1.81994584e-05, 7.35153461e-03]), 'mean_score_time': array([0.01567419, 0.00521104, 0.01562206, 0.01563152, 0.02083635,\n",
      "       0.01279147, 0.0104173 , 0.01041691, 0.01041675, 0.01562556,\n",
      "       0.        , 0.00520809, 0.01041555, 0.        , 0.01042175,\n",
      "       0.01340111, 0.00233332, 0.01198196, 0.01041754, 0.0155956 ]), 'std_score_time': array([7.07559327e-05, 7.36951695e-03, 1.27555204e-02, 4.64491501e-06,\n",
      "       7.37131522e-03, 9.50072042e-03, 7.36614533e-03, 7.36586423e-03,\n",
      "       7.36575184e-03, 2.20978737e-02, 0.00000000e+00, 7.36535846e-03,\n",
      "       7.36490892e-03, 0.00000000e+00, 7.36929480e-03, 3.10899281e-03,\n",
      "       3.29981726e-03, 8.68692690e-03, 7.36631384e-03, 2.08724841e-05]), 'param_C': masked_array(data=[0.1, 0.1, 0.1, 0.1, 0.1, 1.0, 1.0, 1.0, 1.0, 1.0, 10.0,\n",
      "                   10.0, 10.0, 10.0, 10.0, 100.0, 100.0, 100.0, 100.0,\n",
      "                   100.0],\n",
      "             mask=[False, False, False, False, False, False, False, False,\n",
      "                   False, False, False, False, False, False, False, False,\n",
      "                   False, False, False, False],\n",
      "       fill_value='?',\n",
      "            dtype=object), 'param_gamma': masked_array(data=[0.0001, 0.001, 0.01, 0.1, 1.0, 0.0001, 0.001, 0.01,\n",
      "                   0.1, 1.0, 0.0001, 0.001, 0.01, 0.1, 1.0, 0.0001, 0.001,\n",
      "                   0.01, 0.1, 1.0],\n",
      "             mask=[False, False, False, False, False, False, False, False,\n",
      "                   False, False, False, False, False, False, False, False,\n",
      "                   False, False, False, False],\n",
      "       fill_value='?',\n",
      "            dtype=object), 'params': [{'C': 0.1, 'gamma': 0.0001}, {'C': 0.1, 'gamma': 0.001}, {'C': 0.1, 'gamma': 0.01}, {'C': 0.1, 'gamma': 0.1}, {'C': 0.1, 'gamma': 1.0}, {'C': 1.0, 'gamma': 0.0001}, {'C': 1.0, 'gamma': 0.001}, {'C': 1.0, 'gamma': 0.01}, {'C': 1.0, 'gamma': 0.1}, {'C': 1.0, 'gamma': 1.0}, {'C': 10.0, 'gamma': 0.0001}, {'C': 10.0, 'gamma': 0.001}, {'C': 10.0, 'gamma': 0.01}, {'C': 10.0, 'gamma': 0.1}, {'C': 10.0, 'gamma': 1.0}, {'C': 100.0, 'gamma': 0.0001}, {'C': 100.0, 'gamma': 0.001}, {'C': 100.0, 'gamma': 0.01}, {'C': 100.0, 'gamma': 0.1}, {'C': 100.0, 'gamma': 1.0}], 'split0_test_score': array([0.26946108, 0.82035928, 0.10778443, 0.10778443, 0.10778443,\n",
      "       0.89820359, 0.91616766, 0.60479042, 0.10778443, 0.10778443,\n",
      "       0.91616766, 0.92215569, 0.64071856, 0.10778443, 0.10778443,\n",
      "       0.92215569, 0.92215569, 0.64071856, 0.10778443, 0.10778443]), 'split1_test_score': array([0.36526946, 0.89820359, 0.17365269, 0.10778443, 0.20359281,\n",
      "       0.95808383, 0.99401198, 0.70658683, 0.10778443, 0.20359281,\n",
      "       0.97005988, 0.98802395, 0.7245509 , 0.10778443, 0.20359281,\n",
      "       0.97005988, 0.98802395, 0.7245509 , 0.10778443, 0.20359281]), 'split2_test_score': array([0.30120482, 0.8373494 , 0.10240964, 0.10240964, 0.10240964,\n",
      "       0.8313253 , 0.84939759, 0.53614458, 0.10240964, 0.10240964,\n",
      "       0.86144578, 0.85542169, 0.54216867, 0.10240964, 0.10240964,\n",
      "       0.87349398, 0.85542169, 0.54216867, 0.10240964, 0.10240964]), 'mean_test_score': array([0.31197845, 0.85197076, 0.12794892, 0.10599283, 0.13792896,\n",
      "       0.89587091, 0.91985908, 0.61584061, 0.10599283, 0.13792896,\n",
      "       0.91589111, 0.92186711, 0.63581271, 0.10599283, 0.13792896,\n",
      "       0.92190318, 0.92186711, 0.63581271, 0.10599283, 0.13792896]), 'std_test_score': array([0.03984859, 0.03341928, 0.03239185, 0.0025337 , 0.04648317,\n",
      "       0.05177523, 0.05909625, 0.07002009, 0.0025337 , 0.04648317,\n",
      "       0.04434195, 0.05413503, 0.074538  , 0.0025337 , 0.04648317,\n",
      "       0.03942327, 0.05413503, 0.074538  , 0.0025337 , 0.04648317]), 'rank_test_score': array([11,  7, 16, 17, 12,  6,  4, 10, 17, 12,  5,  2,  8, 17, 12,  1,  2,\n",
      "        8, 17, 12])}\n"
     ]
    }
   ],
   "source": [
    "print(\"Detailed results:\")\n",
    "print(clf.cv_results_)"
   ],
   "metadata": {
    "collapsed": false,
    "ExecuteTime": {
     "end_time": "2023-11-18T14:07:09.819954600Z",
     "start_time": "2023-11-18T14:07:00.951967500Z"
    }
   },
   "id": "26bea6596dae496f"
  },
  {
   "cell_type": "code",
   "execution_count": 72,
   "outputs": [],
   "source": [],
   "metadata": {
    "collapsed": false,
    "ExecuteTime": {
     "end_time": "2023-11-18T14:07:09.819954600Z",
     "start_time": "2023-11-18T14:07:00.969046300Z"
    }
   },
   "id": "71259ad3e19cde94"
  }
 ],
 "metadata": {
  "kernelspec": {
   "display_name": "Python 3",
   "language": "python",
   "name": "python3"
  },
  "language_info": {
   "codemirror_mode": {
    "name": "ipython",
    "version": 2
   },
   "file_extension": ".py",
   "mimetype": "text/x-python",
   "name": "python",
   "nbconvert_exporter": "python",
   "pygments_lexer": "ipython2",
   "version": "2.7.6"
  }
 },
 "nbformat": 4,
 "nbformat_minor": 5
}
