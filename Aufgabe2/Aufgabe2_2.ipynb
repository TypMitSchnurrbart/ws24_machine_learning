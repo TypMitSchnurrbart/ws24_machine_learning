{
 "cells": [
  {
   "cell_type": "code",
   "execution_count": 17,
   "id": "initial_id",
   "metadata": {
    "collapsed": true,
    "ExecuteTime": {
     "end_time": "2023-10-31T12:03:50.878128500Z",
     "start_time": "2023-10-31T12:03:50.846882300Z"
    }
   },
   "outputs": [],
   "source": [
    "import matplotlib.pyplot as plt\n",
    "import numpy as np\n",
    "import pandas as pd\n",
    "%matplotlib inline"
   ]
  },
  {
   "cell_type": "code",
   "execution_count": 18,
   "outputs": [],
   "source": [
    "########### 2a Personen mit >70 Bildern #############\n",
    "\n",
    "# Funktion zum Durchsuchen des Verzeichnisses und Ermitteln der Personen mit mindestens 70 Bildern\n",
    "def find_persons_with_min_images(dataset_directory, min_images=70):\n",
    "    persons = {}\n",
    "    \n",
    "    for root, dirs, files in os.walk(dataset_directory):\n",
    "        # Prüfen, ob es sich um das Verzeichnis mit Bildern einer Person handelt\n",
    "        if len(files) >= min_images:\n",
    "            person_name = os.path.basename(root)\n",
    "            persons[person_name] = len(files)\n",
    "\n",
    "    return {k: v for k, v in persons.items() if v >= min_images}"
   ],
   "metadata": {
    "collapsed": false,
    "ExecuteTime": {
     "end_time": "2023-10-31T12:03:50.909416600Z",
     "start_time": "2023-10-31T12:03:50.862502800Z"
    }
   },
   "id": "cb25b1ad9ea68f5"
  },
  {
   "cell_type": "code",
   "execution_count": 19,
   "outputs": [
    {
     "name": "stdout",
     "output_type": "stream",
     "text": [
      "Downloading\n",
      "Extracting...\n",
      "Ariel_Sharon: 77 Bilder\n",
      "Colin_Powell: 236 Bilder\n",
      "Donald_Rumsfeld: 121 Bilder\n",
      "George_W_Bush: 530 Bilder\n",
      "Gerhard_Schroeder: 109 Bilder\n",
      "Hugo_Chavez: 71 Bilder\n",
      "Tony_Blair: 144 Bilder\n"
     ]
    }
   ],
   "source": [
    "import os, tarfile\n",
    "from urllib.request import urlretrieve\n",
    "if not os.path.isfile('lfw-funneled.tgz'):\n",
    "    print(\"Downloading\")\n",
    "    urlretrieve('http://vis-www.cs.umass.edu/lfw/lfw-funneled.tgz',filename = 'lfw-funneled.tgz')\n",
    "    \n",
    "# Pfad zur heruntergeladenen tgz-Datei\n",
    "tgz_file_path = 'lfw-funneled.tgz'\n",
    "\n",
    "# Zielverzeichnis für die Extraktion\n",
    "extracted_directory = 'lfw_funneled'\n",
    "\n",
    "# Extrahiere den Datensatz aus der tgz-Datei\n",
    "if not os.path.exists(extracted_directory):\n",
    "    with tarfile.open(tgz_file_path, 'r:gz') as tar:\n",
    "        print(\"Extracting...\")\n",
    "        tar.extractall(os.getcwd())\n",
    "else: \n",
    "    print(\"Verzeichnis gefunden.\")\n",
    "\n",
    "persons_with_min_images = find_persons_with_min_images(extracted_directory, min_images=70)\n",
    "\n",
    "# Ausgabe der gefundenen Personen\n",
    "for person, num_images in persons_with_min_images.items():\n",
    "    print(f'{person}: {num_images} Bilder')\n"
   ],
   "metadata": {
    "collapsed": false,
    "ExecuteTime": {
     "end_time": "2023-10-31T12:11:48.764999700Z",
     "start_time": "2023-10-31T12:03:50.878128500Z"
    }
   },
   "id": "cce10cd1c9ae346"
  },
  {
   "cell_type": "code",
   "execution_count": 19,
   "outputs": [],
   "source": [],
   "metadata": {
    "collapsed": false,
    "ExecuteTime": {
     "end_time": "2023-10-31T12:11:48.825367900Z",
     "start_time": "2023-10-31T12:11:48.800777300Z"
    }
   },
   "id": "c8726c0d040fbf1e"
  }
 ],
 "metadata": {
  "kernelspec": {
   "display_name": "Python 3",
   "language": "python",
   "name": "python3"
  },
  "language_info": {
   "codemirror_mode": {
    "name": "ipython",
    "version": 2
   },
   "file_extension": ".py",
   "mimetype": "text/x-python",
   "name": "python",
   "nbconvert_exporter": "python",
   "pygments_lexer": "ipython2",
   "version": "2.7.6"
  }
 },
 "nbformat": 4,
 "nbformat_minor": 5
}
