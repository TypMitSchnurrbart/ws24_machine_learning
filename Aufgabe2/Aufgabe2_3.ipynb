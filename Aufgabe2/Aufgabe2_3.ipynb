{
 "cells": [
  {
   "cell_type": "code",
   "execution_count": 292,
   "id": "initial_id",
   "metadata": {
    "collapsed": true,
    "ExecuteTime": {
     "end_time": "2023-11-08T23:28:25.445132600Z",
     "start_time": "2023-11-08T23:28:25.232135Z"
    }
   },
   "outputs": [],
   "source": [
    "import matplotlib.pyplot as plt\n",
    "import numpy as np\n",
    "import pandas as pd\n",
    "%matplotlib inline"
   ]
  },
  {
   "cell_type": "code",
   "execution_count": 293,
   "outputs": [
    {
     "name": "stdout",
     "output_type": "stream",
     "text": [
      "Verzeichnis gefunden.\n"
     ]
    }
   ],
   "source": [
    "########### 2a Personen mit >70 Bildern #############\n",
    "import os, tarfile\n",
    "from urllib.request import urlretrieve\n",
    "if not os.path.isfile('lfw-funneled.tgz'):\n",
    "    print(\"Downloading\")\n",
    "    urlretrieve('http://vis-www.cs.umass.edu/lfw/lfw-funneled.tgz',filename = 'lfw-funneled.tgz')\n",
    "    \n",
    "# Pfad zur heruntergeladenen tgz-Datei\n",
    "tgz_file = 'lfw-funneled.tgz'\n",
    "\n",
    "# Zielverzeichnis für die Extraktion\n",
    "extracted_directory = 'lfw_funneled'\n",
    "\n",
    "# Extrahiere den Datensatz aus der tgz-Datei\n",
    "if not os.path.exists(extracted_directory):\n",
    "    with tarfile.open(tgz_file, 'r:gz') as tar:\n",
    "        print(\"Extracting...\")\n",
    "        tar.extractall(os.getcwd())\n",
    "else: \n",
    "    print(\"Verzeichnis gefunden.\")"
   ],
   "metadata": {
    "collapsed": false,
    "ExecuteTime": {
     "end_time": "2023-11-08T23:28:25.446133900Z",
     "start_time": "2023-11-08T23:28:25.259146100Z"
    }
   },
   "id": "503f7ae1a175ae8a"
  },
  {
   "cell_type": "code",
   "execution_count": 294,
   "outputs": [
    {
     "name": "stdout",
     "output_type": "stream",
     "text": [
      "Ariel_Sharon: 77 Bilder\n",
      "Colin_Powell: 236 Bilder\n",
      "Donald_Rumsfeld: 121 Bilder\n",
      "George_W_Bush: 530 Bilder\n",
      "Gerhard_Schroeder: 109 Bilder\n",
      "Hugo_Chavez: 71 Bilder\n",
      "Tony_Blair: 144 Bilder\n"
     ]
    }
   ],
   "source": [
    "# Funktion zum Durchsuchen des Verzeichnisses und Ermitteln der Personen mit mindestens 70 Bildern\n",
    "def find_persons_with_min_images(dataset_directory, min_images=70):\n",
    "    persons = {}\n",
    "    \n",
    "    for root, dirs, files in os.walk(dataset_directory):\n",
    "        if len(files) >= min_images:\n",
    "            person_name = os.path.basename(root)\n",
    "            persons[person_name] = len(files)\n",
    "\n",
    "    return {k: v for k, v in persons.items() if v >= min_images}\n",
    "\n",
    "persons = find_persons_with_min_images(extracted_directory, min_images=70)\n",
    "\n",
    "# Ausgabe der gefundenen Personen\n",
    "for person, num_images in persons.items():\n",
    "    print(f'{person}: {num_images} Bilder')"
   ],
   "metadata": {
    "collapsed": false,
    "ExecuteTime": {
     "end_time": "2023-11-08T23:28:27.338134200Z",
     "start_time": "2023-11-08T23:28:25.274135900Z"
    }
   },
   "id": "d9d8cde84f602983"
  },
  {
   "cell_type": "code",
   "execution_count": 295,
   "outputs": [
    {
     "name": "stdout",
     "output_type": "stream",
     "text": [
      "Anzahl Trainingsbilder:  1288\n"
     ]
    }
   ],
   "source": [
    "########### 2b #############\n",
    "from skimage import io, transform\n",
    "lfw_path = os.path.join(os.getcwd(), extracted_directory)\n",
    "    \n",
    "all_images = []\n",
    "\n",
    "for person in persons.keys():\n",
    "    person_folder = os.path.join(lfw_path, person)\n",
    "    \n",
    "    for i, img_name in enumerate(os.listdir(person_folder)):\n",
    "        img_path = os.path.join(person_folder, img_name)\n",
    "        img = io.imread(img_path, as_gray=True)\n",
    "        \n",
    "        # Bildmitte berechnen\n",
    "        height, width = img.shape[:2]\n",
    "        center_x, center_y = width // 2, height // 2\n",
    "        \n",
    "        # Ausschnittsgröße festlegen\n",
    "        crop_size = 96\n",
    "        \n",
    "        # Berechne den Ausschnitt\n",
    "        crop_x1 = center_x - (crop_size // 2)\n",
    "        crop_x2 = center_x + (crop_size // 2)\n",
    "        crop_y1 = center_y - (crop_size // 2)\n",
    "        crop_y2 = center_y + (crop_size // 2)\n",
    "        \n",
    "        # Den Ausschnitt ausschneiden\n",
    "        img = img[crop_y1:crop_y2, crop_x1:crop_x2]\n",
    "        img = transform.resize(img, (32, 32))\n",
    "        img = img.flatten()\n",
    "        \n",
    "        # Save the test picture\n",
    "        if person == \"George_W_Bush\":\n",
    "            img = np.insert(img, 0, 1.0)\n",
    "        else:\n",
    "            img = np.insert(img, 0, -1.0)\n",
    "            \n",
    "        all_images.append(img)\n",
    "\n",
    "print(\"Anzahl Trainingsbilder: \", len(all_images))"
   ],
   "metadata": {
    "collapsed": false,
    "ExecuteTime": {
     "end_time": "2023-11-08T23:28:31.781623400Z",
     "start_time": "2023-11-08T23:28:27.351137600Z"
    }
   },
   "id": "db6689ea8461a9c3"
  },
  {
   "cell_type": "code",
   "execution_count": 296,
   "outputs": [
    {
     "name": "stdout",
     "output_type": "stream",
     "text": [
      "772 + 516 = 1288 <=> 1288\n"
     ]
    }
   ],
   "source": [
    "import random\n",
    "\n",
    "# Randomize and then seperate\n",
    "random.shuffle(all_images)\n",
    "\n",
    "n_train = int(len(all_images) * 0.6)\n",
    "train_data = all_images[:n_train]\n",
    "test_data = all_images[n_train:]\n",
    "\n",
    "print(len(train_data), \"+\", len(test_data), \"=\", len(train_data) + len(test_data), \"<=>\", len(all_images))"
   ],
   "metadata": {
    "collapsed": false,
    "ExecuteTime": {
     "end_time": "2023-11-08T23:28:31.832619Z",
     "start_time": "2023-11-08T23:28:31.785620200Z"
    }
   },
   "id": "3e0c672949cf7b9d"
  },
  {
   "cell_type": "code",
   "execution_count": 297,
   "outputs": [
    {
     "name": "stdout",
     "output_type": "stream",
     "text": [
      "Shape Design Matrix:  (772, 1025)\n"
     ]
    },
    {
     "data": {
      "text/plain": "   0         1         2         3         4         5         6         7     \\\n0  -1.0  0.100032  0.122140  0.235866  0.495822  0.531897  0.620258  0.639195   \n1  -1.0  0.526127  0.555201  0.599809  0.624002  0.646758  0.697131  0.750642   \n2   1.0  0.199988  0.285798  0.309170  0.359026  0.384156  0.412723  0.424768   \n3   1.0  0.240129  0.278447  0.319972  0.374780  0.389146  0.454788  0.484395   \n4   1.0  0.329508  0.349696  0.408826  0.599581  0.681647  0.701520  0.727874   \n\n       8         9     ...      1015      1016      1017      1018      1019  \\\n0  0.660642  0.680389  ...  0.521128  0.552548  0.545123  0.535695  0.529428   \n1  0.773939  0.796575  ...  0.645620  0.644525  0.671319  0.676742  0.627658   \n2  0.433020  0.429738  ...  0.482564  0.487408  0.443085  0.402738  0.341691   \n3  0.517182  0.541093  ...  0.602813  0.592357  0.582687  0.520182  0.456056   \n4  0.752120  0.757378  ...  0.566222  0.564640  0.523530  0.471782  0.406601   \n\n       1020      1021      1022      1023      1024  \n0  0.514658  0.377849  0.423171  0.202050  0.044814  \n1  0.640175  0.628907  0.427381  0.250436  0.262493  \n2  0.318077  0.290796  0.241243  0.139942  0.216996  \n3  0.518334  0.468444  0.365002  0.334314  0.407794  \n4  0.390157  0.412212  0.428840  0.417741  0.405379  \n\n[5 rows x 1025 columns]",
      "text/html": "<div>\n<style scoped>\n    .dataframe tbody tr th:only-of-type {\n        vertical-align: middle;\n    }\n\n    .dataframe tbody tr th {\n        vertical-align: top;\n    }\n\n    .dataframe thead th {\n        text-align: right;\n    }\n</style>\n<table border=\"1\" class=\"dataframe\">\n  <thead>\n    <tr style=\"text-align: right;\">\n      <th></th>\n      <th>0</th>\n      <th>1</th>\n      <th>2</th>\n      <th>3</th>\n      <th>4</th>\n      <th>5</th>\n      <th>6</th>\n      <th>7</th>\n      <th>8</th>\n      <th>9</th>\n      <th>...</th>\n      <th>1015</th>\n      <th>1016</th>\n      <th>1017</th>\n      <th>1018</th>\n      <th>1019</th>\n      <th>1020</th>\n      <th>1021</th>\n      <th>1022</th>\n      <th>1023</th>\n      <th>1024</th>\n    </tr>\n  </thead>\n  <tbody>\n    <tr>\n      <th>0</th>\n      <td>-1.0</td>\n      <td>0.100032</td>\n      <td>0.122140</td>\n      <td>0.235866</td>\n      <td>0.495822</td>\n      <td>0.531897</td>\n      <td>0.620258</td>\n      <td>0.639195</td>\n      <td>0.660642</td>\n      <td>0.680389</td>\n      <td>...</td>\n      <td>0.521128</td>\n      <td>0.552548</td>\n      <td>0.545123</td>\n      <td>0.535695</td>\n      <td>0.529428</td>\n      <td>0.514658</td>\n      <td>0.377849</td>\n      <td>0.423171</td>\n      <td>0.202050</td>\n      <td>0.044814</td>\n    </tr>\n    <tr>\n      <th>1</th>\n      <td>-1.0</td>\n      <td>0.526127</td>\n      <td>0.555201</td>\n      <td>0.599809</td>\n      <td>0.624002</td>\n      <td>0.646758</td>\n      <td>0.697131</td>\n      <td>0.750642</td>\n      <td>0.773939</td>\n      <td>0.796575</td>\n      <td>...</td>\n      <td>0.645620</td>\n      <td>0.644525</td>\n      <td>0.671319</td>\n      <td>0.676742</td>\n      <td>0.627658</td>\n      <td>0.640175</td>\n      <td>0.628907</td>\n      <td>0.427381</td>\n      <td>0.250436</td>\n      <td>0.262493</td>\n    </tr>\n    <tr>\n      <th>2</th>\n      <td>1.0</td>\n      <td>0.199988</td>\n      <td>0.285798</td>\n      <td>0.309170</td>\n      <td>0.359026</td>\n      <td>0.384156</td>\n      <td>0.412723</td>\n      <td>0.424768</td>\n      <td>0.433020</td>\n      <td>0.429738</td>\n      <td>...</td>\n      <td>0.482564</td>\n      <td>0.487408</td>\n      <td>0.443085</td>\n      <td>0.402738</td>\n      <td>0.341691</td>\n      <td>0.318077</td>\n      <td>0.290796</td>\n      <td>0.241243</td>\n      <td>0.139942</td>\n      <td>0.216996</td>\n    </tr>\n    <tr>\n      <th>3</th>\n      <td>1.0</td>\n      <td>0.240129</td>\n      <td>0.278447</td>\n      <td>0.319972</td>\n      <td>0.374780</td>\n      <td>0.389146</td>\n      <td>0.454788</td>\n      <td>0.484395</td>\n      <td>0.517182</td>\n      <td>0.541093</td>\n      <td>...</td>\n      <td>0.602813</td>\n      <td>0.592357</td>\n      <td>0.582687</td>\n      <td>0.520182</td>\n      <td>0.456056</td>\n      <td>0.518334</td>\n      <td>0.468444</td>\n      <td>0.365002</td>\n      <td>0.334314</td>\n      <td>0.407794</td>\n    </tr>\n    <tr>\n      <th>4</th>\n      <td>1.0</td>\n      <td>0.329508</td>\n      <td>0.349696</td>\n      <td>0.408826</td>\n      <td>0.599581</td>\n      <td>0.681647</td>\n      <td>0.701520</td>\n      <td>0.727874</td>\n      <td>0.752120</td>\n      <td>0.757378</td>\n      <td>...</td>\n      <td>0.566222</td>\n      <td>0.564640</td>\n      <td>0.523530</td>\n      <td>0.471782</td>\n      <td>0.406601</td>\n      <td>0.390157</td>\n      <td>0.412212</td>\n      <td>0.428840</td>\n      <td>0.417741</td>\n      <td>0.405379</td>\n    </tr>\n  </tbody>\n</table>\n<p>5 rows × 1025 columns</p>\n</div>"
     },
     "execution_count": 297,
     "metadata": {},
     "output_type": "execute_result"
    }
   ],
   "source": [
    "df_train = pd.DataFrame(train_data)\n",
    "df_test = pd.DataFrame(test_data)\n",
    "\n",
    "print(\"Shape Design Matrix: \", df_train.shape)\n",
    "df_train.head()"
   ],
   "metadata": {
    "collapsed": false,
    "ExecuteTime": {
     "end_time": "2023-11-08T23:28:32.243619100Z",
     "start_time": "2023-11-08T23:28:31.813620700Z"
    }
   },
   "id": "b685fee973f3f5de"
  },
  {
   "cell_type": "code",
   "execution_count": 298,
   "outputs": [
    {
     "name": "stdout",
     "output_type": "stream",
     "text": [
      "design_labels shape:  (772,)\n",
      "design_matrix shape:  (772, 1024)\n",
      "test_labels shape:  (516,)\n",
      "test_matrix shape:  (516, 1024)\n"
     ]
    }
   ],
   "source": [
    " # Get labels back to perform pca\n",
    "design_labels = df_train.iloc[:, 0]\n",
    "design_matrix = df_train.iloc[:, 1:]\n",
    "test_labels = df_test.iloc[:, 0]\n",
    "test_matrix = df_test.iloc[:, 1:]\n",
    "\n",
    "print(\"design_labels shape: \", design_labels.shape)\n",
    "print(\"design_matrix shape: \", design_matrix.shape)\n",
    "print(\"test_labels shape: \", test_labels.shape)\n",
    "print(\"test_matrix shape: \", test_matrix.shape)"
   ],
   "metadata": {
    "collapsed": false,
    "ExecuteTime": {
     "end_time": "2023-11-08T23:28:32.315663Z",
     "start_time": "2023-11-08T23:28:32.248620100Z"
    }
   },
   "id": "42e3bdada28cde40"
  },
  {
   "cell_type": "code",
   "execution_count": 299,
   "outputs": [
    {
     "name": "stdout",
     "output_type": "stream",
     "text": [
      "Eigenvectores shape:  (1024, 1024)\n",
      "Eigenfaces shape:  (7, 1024)\n",
      "Eigenvectores shape:  (1024, 1024)\n",
      "Eigenfaces shape:  (7, 1024)\n"
     ]
    }
   ],
   "source": [
    "###### PCA\n",
    "def pca(matrix):\n",
    "    \n",
    "    # Zentrierung\n",
    "    matrix = (matrix - matrix.mean()) / matrix.std()\n",
    "    \n",
    "    # SVD\n",
    "    U, D, V = np.linalg.svd(matrix)\n",
    "    eigenvectors = V\n",
    "    print(\"Eigenvectores shape: \", eigenvectors.shape)\n",
    "    eigenfaces = eigenvectors[:7]\n",
    "    print(\"Eigenfaces shape: \", eigenfaces.shape)\n",
    "    \n",
    "    # Transform the data to the first 7 eigenfaces\n",
    "    scores = pd.DataFrame(np.matmul(matrix, eigenfaces.T))\n",
    "    return scores\n",
    "\n",
    "train_scores = pca(design_matrix)\n",
    "test_scores = pca(test_matrix)\n",
    "\n",
    "# # Zentrierung\n",
    "# design_matrix = (design_matrix - design_matrix.mean()) / design_matrix.std()\n",
    "# test_matrix = (test_matrix - test_matrix.mean()) / test_matrix.std()\n",
    "# \n",
    "# # SVD\n",
    "# U, D, V = np.linalg.svd(design_matrix)\n",
    "# eigenvectors = V\n",
    "# print(\"Eigenvectores shape: \", eigenvectors.shape)\n",
    "# eigenfaces = eigenvectors[:7]\n",
    "# print(\"Eigenfaces shape: \", eigenfaces.shape)\n",
    "#     \n",
    "# # Transform the data to the first 7 eigenfaces\n",
    "# train_scores = pd.DataFrame(np.matmul(design_matrix, eigenfaces.T))\n",
    "# print(train_scores.head())\n",
    "# test_scores = pd.DataFrame(np.matmul(test_matrix, eigenfaces.T))\n",
    "# print(test_scores.head())"
   ],
   "metadata": {
    "collapsed": false,
    "ExecuteTime": {
     "end_time": "2023-11-08T23:28:32.817560300Z",
     "start_time": "2023-11-08T23:28:32.265620600Z"
    }
   },
   "id": "ff00b9c5f7b001d5"
  },
  {
   "cell_type": "code",
   "execution_count": 300,
   "outputs": [
    {
     "name": "stdout",
     "output_type": "stream",
     "text": [
      "       mean    variance\n",
      "0  0.505394  275.553188\n",
      "1  0.520161  192.619237\n",
      "2 -1.999460   64.030502\n",
      "3 -2.109745   60.431983\n",
      "4 -0.457527   33.938921\n",
      "5 -2.109519   27.283246\n",
      "6  0.417372   23.475302\n"
     ]
    }
   ],
   "source": [
    "### Bayes Classificator\n",
    "bush = {\n",
    "    \"mean\" : [],\n",
    "    \"variance\" : []\n",
    "}\n",
    "\n",
    "not_bush = {\n",
    "    \"mean\" : [],\n",
    "    \"variance\" : []\n",
    "}\n",
    "\n",
    "train_scores[\"labels\"] = design_labels\n",
    "bush_scores = train_scores.loc[train_scores[\"labels\"] == 1.0]\n",
    "not_bush_scores = train_scores.loc[train_scores[\"labels\"] == -1.0]\n",
    "\n",
    "# Remove label from scores\n",
    "train_scores = train_scores.drop(columns=[\"labels\"])\n",
    "bush_scores = bush_scores.drop(columns=[\"labels\"])\n",
    "not_bush_scores = not_bush_scores.drop(columns=[\"labels\"])\n",
    "\n",
    "for entry in bush_scores:\n",
    "    bush[\"mean\"].append(bush_scores[entry].mean())\n",
    "    bush[\"variance\"].append(bush_scores[entry].var())\n",
    "\n",
    "for entry in not_bush_scores:\n",
    "    not_bush[\"mean\"].append(not_bush_scores[entry].mean())\n",
    "    not_bush[\"variance\"].append(not_bush_scores[entry].var())\n",
    "\n",
    "bush = pd.DataFrame(bush)\n",
    "not_bush = pd.DataFrame(not_bush)\n",
    "print(bush)"
   ],
   "metadata": {
    "collapsed": false,
    "ExecuteTime": {
     "end_time": "2023-11-08T23:28:32.896558400Z",
     "start_time": "2023-11-08T23:28:32.818559700Z"
    }
   },
   "id": "6644cf4e6c5804f4"
  },
  {
   "cell_type": "code",
   "execution_count": 301,
   "outputs": [],
   "source": [
    "# Compute the A-Priori of train daata\n",
    "p_is_bush = design_labels.value_counts().get(1.0, 0) / len(design_labels)\n",
    "p_not_bush = 1 - p_is_bush"
   ],
   "metadata": {
    "collapsed": false,
    "ExecuteTime": {
     "end_time": "2023-11-08T23:28:32.899559300Z",
     "start_time": "2023-11-08T23:28:32.862560800Z"
    }
   },
   "id": "38eead1e0de0a040"
  },
  {
   "cell_type": "code",
   "execution_count": 302,
   "outputs": [],
   "source": [
    "import math\n",
    "\n",
    "def check_bayes_classificator(scores, labels):\n",
    "    # Calculate the Gaussian probability values for each feature and class\n",
    "    true_positive = 0\n",
    "    false_positive = 0\n",
    "    true_negativ = 0\n",
    "    false_negativ = 0\n",
    "    dates = 0\n",
    "    for i, score in scores.iterrows():\n",
    "    \n",
    "        dates += 1\n",
    "        likehoods = {\n",
    "            \"P_bush\" : [],\n",
    "            \"P_not\" : []\n",
    "        }\n",
    "        \n",
    "        for j, value in enumerate(score.values):\n",
    "    \n",
    "            mean = bush[\"mean\"][j]\n",
    "            not_mean = not_bush[\"mean\"][j]\n",
    "    \n",
    "            variance = bush[\"variance\"][j]\n",
    "            not_variance = not_bush[\"variance\"][j]\n",
    "    \n",
    "            likehoods[\"P_not\"].append((1 / (math.sqrt(2 * math.pi * not_variance))) * math.exp(-(value - not_mean)**2 / (2 * not_variance)))\n",
    "            likehoods[\"P_bush\"].append((1 / (math.sqrt(2 * math.pi * variance))) * math.exp(-(value - mean)**2 / (2 * variance)))\n",
    "        \n",
    "        # Now we got the pdfs P(x | c), probability of feature x under class c\n",
    "        # Now look at decision\n",
    "        prd_bush = 1\n",
    "        for like in likehoods[\"P_bush\"]:\n",
    "            prd_bush *= (like * p_is_bush)\n",
    "    \n",
    "        prd_not_bush = 1\n",
    "        for like in likehoods[\"P_not\"]:\n",
    "            prd_not_bush *= (like * p_not_bush)\n",
    "        \n",
    "        # Make the decision\n",
    "        # print(f\"{round(prd_bush,15)} ?= {round(prd_not_bush,15)}\")\n",
    "        if prd_bush > prd_not_bush:\n",
    "            if labels[i] == 1.0:\n",
    "                true_positive += 1\n",
    "            else:\n",
    "                false_positive += 1\n",
    "            # print(f\"Got Bush! Real value: {test_labels[i]}\")\n",
    "        else:\n",
    "            if labels[i] == 1.0:\n",
    "                false_negativ += 1\n",
    "            else:\n",
    "                true_negativ += 1\n",
    "            # print(f\"NOT Bush! Real value: {test_labels[i]}\")\n",
    "    \n",
    "    print(f\"\"\"\n",
    "    True Positive:\\t{true_positive/dates}\n",
    "    False Positive:\\t{false_positive/dates}\n",
    "    False Negativ:\\t{false_negativ/dates}\n",
    "    True Negativ:\\t{true_negativ/dates}\n",
    "    \"\"\")"
   ],
   "metadata": {
    "collapsed": false,
    "ExecuteTime": {
     "end_time": "2023-11-08T23:28:32.960557100Z",
     "start_time": "2023-11-08T23:28:32.893560300Z"
    }
   },
   "id": "67b69d25ba4b092d"
  },
  {
   "cell_type": "code",
   "execution_count": 303,
   "outputs": [
    {
     "name": "stdout",
     "output_type": "stream",
     "text": [
      "\n",
      "Checking results on TRAINING data:\n",
      "\n",
      "    True Positive:\t0.009067357512953367\n",
      "    False Positive:\t0.006476683937823834\n",
      "    False Negativ:\t0.41321243523316065\n",
      "    True Negativ:\t0.5712435233160622\n",
      "    \n",
      "\n",
      "Checking results on independent TEST data:\n",
      "\n",
      "    True Positive:\t0.007751937984496124\n",
      "    False Positive:\t0.005813953488372093\n",
      "    False Negativ:\t0.3875968992248062\n",
      "    True Negativ:\t0.5988372093023255\n",
      "    \n"
     ]
    }
   ],
   "source": [
    "# Check for test data\n",
    "print(\"\\nChecking results on TRAINING data:\")\n",
    "check_bayes_classificator(train_scores, design_labels)\n",
    "print(\"\\nChecking results on independent TEST data:\")\n",
    "check_bayes_classificator(test_scores, test_labels)"
   ],
   "metadata": {
    "collapsed": false,
    "ExecuteTime": {
     "end_time": "2023-11-08T23:28:33.989672300Z",
     "start_time": "2023-11-08T23:28:32.922559700Z"
    }
   },
   "id": "d606853c8f7d1563"
  }
 ],
 "metadata": {
  "kernelspec": {
   "display_name": "Python 3",
   "language": "python",
   "name": "python3"
  },
  "language_info": {
   "codemirror_mode": {
    "name": "ipython",
    "version": 2
   },
   "file_extension": ".py",
   "mimetype": "text/x-python",
   "name": "python",
   "nbconvert_exporter": "python",
   "pygments_lexer": "ipython2",
   "version": "2.7.6"
  }
 },
 "nbformat": 4,
 "nbformat_minor": 5
}
