{
 "cells": [
  {
   "cell_type": "code",
   "execution_count": 2,
   "id": "initial_id",
   "metadata": {
    "collapsed": true,
    "ExecuteTime": {
     "end_time": "2023-10-31T10:18:06.545161800Z",
     "start_time": "2023-10-31T10:18:04.155104500Z"
    }
   },
   "outputs": [],
   "source": [
    "import matplotlib.pyplot as plt\n",
    "import numpy as np\n",
    "import pandas as pd\n",
    "%matplotlib inline"
   ]
  },
  {
   "cell_type": "code",
   "execution_count": 36,
   "outputs": [
    {
     "data": {
      "text/plain": "     0    1    2    3\n0  1.0  0.0  4.0  0.0\n1  1.0  1.0  2.0  0.0",
      "text/html": "<div>\n<style scoped>\n    .dataframe tbody tr th:only-of-type {\n        vertical-align: middle;\n    }\n\n    .dataframe tbody tr th {\n        vertical-align: top;\n    }\n\n    .dataframe thead th {\n        text-align: right;\n    }\n</style>\n<table border=\"1\" class=\"dataframe\">\n  <thead>\n    <tr style=\"text-align: right;\">\n      <th></th>\n      <th>0</th>\n      <th>1</th>\n      <th>2</th>\n      <th>3</th>\n    </tr>\n  </thead>\n  <tbody>\n    <tr>\n      <th>0</th>\n      <td>1.0</td>\n      <td>0.0</td>\n      <td>4.0</td>\n      <td>0.0</td>\n    </tr>\n    <tr>\n      <th>1</th>\n      <td>1.0</td>\n      <td>1.0</td>\n      <td>2.0</td>\n      <td>0.0</td>\n    </tr>\n  </tbody>\n</table>\n</div>"
     },
     "execution_count": 36,
     "metadata": {},
     "output_type": "execute_result"
    }
   ],
   "source": [
    "# The Fish Data Set\n",
    "# See example 2 from https://stats.idre.ucla.edu/r/dae/zip/ \n",
    "#\"nofish\",\"livebait\",\"camper\",\"persons\",\"child\",\"xb\",\"zg\",\"count\"\n",
    "import os\n",
    "from urllib.request import urlretrieve\n",
    "if not os.path.isfile('fishing.npz'):\n",
    "    print(\"Downloading\")\n",
    "    urlretrieve('http://www-home.htwg-konstanz.de/~oduerr/data/fishing.npz',filename = 'fishing.npz')\n",
    "d = np.load('fishing.npz')\n",
    "Xt = d['Xt'] #\"livebait\",\"camper\",\"persons\",\"child\"\n",
    "Xte = d['Xte']\n",
    "yt = d['yt']\n",
    "yte = d['yte']\n",
    "pd.DataFrame(Xt[0:2])"
   ],
   "metadata": {
    "collapsed": false,
    "ExecuteTime": {
     "end_time": "2023-10-31T10:53:28.594150900Z",
     "start_time": "2023-10-31T10:53:28.547276400Z"
    }
   },
   "id": "8a3ab219fe734bee"
  },
  {
   "cell_type": "code",
   "execution_count": 64,
   "outputs": [
    {
     "name": "stdout",
     "output_type": "stream",
     "text": [
      "Shape of Xt with intercept:  (200, 5)\n",
      "[[1. 1. 0. 4. 0.]\n",
      " [1. 1. 1. 2. 0.]]\n",
      "\n",
      "Solution of regression by hand: \n",
      "[-8.49222821  2.4822138   2.95430727  4.64953914 -5.47160051]\n"
     ]
    }
   ],
   "source": [
    "########### 1a Linear Regression by Hand #############\n",
    "\n",
    "# insert intercept\n",
    "num_rows = Xt.shape[0]\n",
    "ones_column = np.ones((num_rows, 1), dtype=np.float64)\n",
    "Xt_intercept = np.hstack((ones_column, Xt))\n",
    "print(\"Xt with intercept:\")\n",
    "print(\"Shape: \", Xt_intercept.shape)\n",
    "print(Xt_intercept[0:2])\n",
    "\n",
    "XTX = np.matmul(Xt_intercept.T,Xt_intercept)\n",
    "XTXI = np.linalg.inv(XTX)\n",
    "XTXIXT = np.matmul(XTXI, Xt_intercept.T)\n",
    "w = np.matmul(XTXIXT,yt)\n",
    "\n",
    "# Show the found weights\n",
    "print(\"\\nSolution of regression by hand: \")\n",
    "print(w)"
   ],
   "metadata": {
    "collapsed": false,
    "ExecuteTime": {
     "end_time": "2023-10-31T11:08:56.820927700Z",
     "start_time": "2023-10-31T11:08:56.773960700Z"
    }
   },
   "id": "d5c36ef24b41b9b8"
  },
  {
   "cell_type": "code",
   "execution_count": 52,
   "outputs": [
    {
     "name": "stdout",
     "output_type": "stream",
     "text": [
      "Solution of regression by hand: \n",
      "[-8.49222821  2.4822138   2.95430727  4.64953914 -5.47160051]\n"
     ]
    }
   ],
   "source": [
    "########### 1b Linear Regression with scikit #############\n",
    "\n",
    "from sklearn.linear_model import LinearRegression\n",
    "Xa = np.asarray(Xt_intercept)\n",
    "ya = np.asarray(yt)\n",
    "model_skl = LinearRegression(fit_intercept=False) #We have an extended X\n",
    "model_skl.fit(Xa,ya)\n",
    "print(\"Solution of regression by hand: \")\n",
    "print(model_skl.coef_)"
   ],
   "metadata": {
    "collapsed": false,
    "ExecuteTime": {
     "end_time": "2023-10-31T11:02:23.220469700Z",
     "start_time": "2023-10-31T11:02:23.204620Z"
    }
   },
   "id": "cba905b3d171942c"
  },
  {
   "cell_type": "code",
   "execution_count": 66,
   "outputs": [
    {
     "name": "stdout",
     "output_type": "stream",
     "text": [
      "Shape of Xte with intercept:  (50, 5)\n",
      "[[1. 0. 0. 3. 0.]\n",
      " [1. 1. 0. 3. 1.]]\n",
      "\n",
      "RMSE:  8.588126386734231\n",
      "Variance:  73.75591483452077\n",
      "NLL:  3.5693191297796893\n"
     ]
    }
   ],
   "source": [
    "########### 1c RMSE and NLL #############\n",
    "\n",
    "num_rows = Xte.shape[0]\n",
    "ones_column = np.ones((num_rows, 1), dtype=np.float64)\n",
    "Xte_intercept = np.hstack((ones_column, Xte))\n",
    "print(\"Xte with intercept:\")\n",
    "print(\"Shape: \", Xte_intercept.shape)\n",
    "print(Xte_intercept[0:2])\n",
    "\n",
    "yte_pred = np.matmul(Xte_intercept, w)\n",
    "\n",
    "\n",
    "MSE = np.mean((yte_pred - yte)**2)\n",
    "RMSE = np.sqrt(MSE)\n",
    "variance = MSE\n",
    "NLL = 0.5 * np.log(2 * np.pi * variance) + 0.5 * np.mean((yte_pred - yte)**2) / variance\n",
    "\n",
    "print(\"\\nRMSE: \", RMSE)\n",
    "print(\"Variance: \", variance)\n",
    "print(\"NLL: \", NLL)"
   ],
   "metadata": {
    "collapsed": false,
    "ExecuteTime": {
     "end_time": "2023-10-31T11:09:28.564108400Z",
     "start_time": "2023-10-31T11:09:28.517154300Z"
    }
   },
   "id": "91a10122f9288eac"
  },
  {
   "cell_type": "code",
   "execution_count": 67,
   "outputs": [
    {
     "name": "stdout",
     "output_type": "stream",
     "text": [
      "Mean True:  3.06\n",
      "Mean Pred:  3.584986890619827\n"
     ]
    },
    {
     "data": {
      "text/plain": "<Figure size 640x480 with 1 Axes>",
      "image/png": "[encoded data removed]"
     },
     "metadata": {},
     "output_type": "display_data"
    }
   ],
   "source": [
    "########### 1d Gaussian Plot #############\n",
    "from scipy.stats import norm\n",
    "\n",
    "# Compute mean of pred and real\n",
    "mean_true = np.mean(yte)\n",
    "mean_pred = np.mean(yte_pred)\n",
    "print(\"Mean True: \", mean_true)\n",
    "print(\"Mean Pred: \", mean_pred)\n",
    "\n",
    "percentile025 = mean_pred - 1.96 * RMSE\n",
    "percentile975 = mean_pred + 1.96 * RMSE\n",
    "\n",
    "# plot real fish\n",
    "# plt.plot(norm.pdf(mean_true, RMSE))\n",
    "# plt.axvline(x=percentile025, linestyle='--', label='2.5th Percentile')\n",
    "# plt.axvline(x=percentile975, linestyle='--', label='97.5th Percentile')\n",
    "\n",
    "# plot predicted fish\n",
    "plt.plot(norm.pdf(mean_pred, RMSE))\n",
    "plt.axvline(x=percentile025, linestyle='--', label='2.5th Percentile')\n",
    "plt.axvline(x=percentile975, linestyle='--', label='97.5th Percentile')\n",
    "\n",
    "plt.legend()\n",
    "plt.show()"
   ],
   "metadata": {
    "collapsed": false,
    "ExecuteTime": {
     "end_time": "2023-10-31T11:11:53.784274700Z",
     "start_time": "2023-10-31T11:11:53.470410400Z"
    }
   },
   "id": "5c30cf79aaa29ad0"
  },
  {
   "cell_type": "code",
   "execution_count": 72,
   "outputs": [
    {
     "ename": "ValueError",
     "evalue": "Can't convert non-rectangular Python sequence to Tensor.",
     "output_type": "error",
     "traceback": [
      "\u001B[1;31m---------------------------------------------------------------------------\u001B[0m",
      "\u001B[1;31mValueError\u001B[0m                                Traceback (most recent call last)",
      "Cell \u001B[1;32mIn[72], line 12\u001B[0m\n\u001B[0;32m      3\u001B[0m \u001B[38;5;66;03m#import tensorflow_probability as tfp\u001B[39;00m\n\u001B[0;32m      4\u001B[0m \n\u001B[0;32m      5\u001B[0m \u001B[38;5;66;03m# k = \u001B[39;00m\n\u001B[0;32m      6\u001B[0m \u001B[38;5;66;03m# p_k = np.exp(-mean_true) * ((mean_true**k) / np.prod(np.arange(1, k + 1)))\u001B[39;00m\n\u001B[0;32m     11\u001B[0m Xs \u001B[38;5;241m=\u001B[39m tf\u001B[38;5;241m.\u001B[39mVariable(np\u001B[38;5;241m.\u001B[39masmatrix(Xt_intercept,dtype\u001B[38;5;241m=\u001B[39m\u001B[38;5;124m'\u001B[39m\u001B[38;5;124mfloat32\u001B[39m\u001B[38;5;124m'\u001B[39m))\n\u001B[1;32m---> 12\u001B[0m ws \u001B[38;5;241m=\u001B[39m \u001B[43mtf\u001B[49m\u001B[38;5;241;43m.\u001B[39;49m\u001B[43mVariable\u001B[49m\u001B[43m(\u001B[49m\u001B[43m(\u001B[49m\u001B[43m(\u001B[49m\u001B[38;5;241;43m1.\u001B[39;49m\u001B[43m,\u001B[49m\u001B[38;5;241;43m1.\u001B[39;49m\u001B[43m,\u001B[49m\u001B[38;5;241;43m1.\u001B[39;49m\u001B[43m,\u001B[49m\u001B[38;5;241;43m1.\u001B[39;49m\u001B[43m,\u001B[49m\u001B[38;5;241;43m1.\u001B[39;49m\u001B[43m)\u001B[49m\u001B[43m,\u001B[49m\u001B[43m \u001B[49m\u001B[38;5;241;43m1\u001B[39;49m\u001B[43m)\u001B[49m\u001B[43m)\u001B[49m\n\u001B[0;32m     13\u001B[0m \u001B[38;5;28mprint\u001B[39m(Xs\u001B[38;5;241m.\u001B[39mshape)\n\u001B[0;32m     14\u001B[0m \u001B[38;5;28mprint\u001B[39m(ws\u001B[38;5;241m.\u001B[39mshape)\n",
      "File \u001B[1;32m~\\anaconda3\\envs\\ml\\lib\\site-packages\\tensorflow\\python\\util\\traceback_utils.py:153\u001B[0m, in \u001B[0;36mfilter_traceback.<locals>.error_handler\u001B[1;34m(*args, **kwargs)\u001B[0m\n\u001B[0;32m    151\u001B[0m \u001B[38;5;28;01mexcept\u001B[39;00m \u001B[38;5;167;01mException\u001B[39;00m \u001B[38;5;28;01mas\u001B[39;00m e:\n\u001B[0;32m    152\u001B[0m   filtered_tb \u001B[38;5;241m=\u001B[39m _process_traceback_frames(e\u001B[38;5;241m.\u001B[39m__traceback__)\n\u001B[1;32m--> 153\u001B[0m   \u001B[38;5;28;01mraise\u001B[39;00m e\u001B[38;5;241m.\u001B[39mwith_traceback(filtered_tb) \u001B[38;5;28;01mfrom\u001B[39;00m \u001B[38;5;28;01mNone\u001B[39;00m\n\u001B[0;32m    154\u001B[0m \u001B[38;5;28;01mfinally\u001B[39;00m:\n\u001B[0;32m    155\u001B[0m   \u001B[38;5;28;01mdel\u001B[39;00m filtered_tb\n",
      "File \u001B[1;32m~\\anaconda3\\envs\\ml\\lib\\site-packages\\tensorflow\\python\\framework\\constant_op.py:102\u001B[0m, in \u001B[0;36mconvert_to_eager_tensor\u001B[1;34m(value, ctx, dtype)\u001B[0m\n\u001B[0;32m    100\u001B[0m     dtype \u001B[38;5;241m=\u001B[39m dtypes\u001B[38;5;241m.\u001B[39mas_dtype(dtype)\u001B[38;5;241m.\u001B[39mas_datatype_enum\n\u001B[0;32m    101\u001B[0m ctx\u001B[38;5;241m.\u001B[39mensure_initialized()\n\u001B[1;32m--> 102\u001B[0m \u001B[38;5;28;01mreturn\u001B[39;00m \u001B[43mops\u001B[49m\u001B[38;5;241;43m.\u001B[39;49m\u001B[43mEagerTensor\u001B[49m\u001B[43m(\u001B[49m\u001B[43mvalue\u001B[49m\u001B[43m,\u001B[49m\u001B[43m \u001B[49m\u001B[43mctx\u001B[49m\u001B[38;5;241;43m.\u001B[39;49m\u001B[43mdevice_name\u001B[49m\u001B[43m,\u001B[49m\u001B[43m \u001B[49m\u001B[43mdtype\u001B[49m\u001B[43m)\u001B[49m\n",
      "\u001B[1;31mValueError\u001B[0m: Can't convert non-rectangular Python sequence to Tensor."
     ]
    }
   ],
   "source": [
    "########### 1e Gradient Descent #############\n",
    "import tensorflow as tf\n",
    "#import tensorflow_probability as tfp\n",
    "\n",
    "# k = ??\n",
    "# p_k = np.exp(-mean_true) * ((mean_true**k) / np.prod(np.arange(1, k + 1)))\n",
    "\n",
    "\n",
    "\n",
    "\n",
    "Xs = tf.Variable(np.asmatrix(Xt_intercept,dtype='float32'))\n",
    "ws = tf.Variable((1.,1.,1.,1))\n",
    "print(Xs.shape)\n",
    "print(ws.shape)\n",
    "#ws = tf.Variable(np.asarray(w,dtype='float32'))\n",
    "for i in range(5000):\n",
    "    with tf.GradientTape() as tape: #Mechanism to store gradients\n",
    "        y_hat = tf.matmul(Xs,ws)\n",
    "        loss = tf.reduce_logsumexp((yt - y_hat)**2) #MSE\n",
    "        if i % 500 == 0:\n",
    "            print(i, \"  \",ws.numpy().T,'  ',loss.numpy())\n",
    "        grads = tape.gradient(loss, ws) #gradient wrt w\n",
    "        ws = tf.Variable(ws - 0.0001 * grads)\n",
    "print(\"grads: \", grads)"
   ],
   "metadata": {
    "collapsed": false,
    "ExecuteTime": {
     "end_time": "2023-10-31T11:22:57.307363Z",
     "start_time": "2023-10-31T11:22:57.157316600Z"
    }
   },
   "id": "5654b35fc903e499"
  },
  {
   "cell_type": "code",
   "execution_count": 73,
   "outputs": [
    {
     "ename": "AttributeError",
     "evalue": "'poisson_gen' object has no attribute 'fit'",
     "output_type": "error",
     "traceback": [
      "\u001B[1;31m---------------------------------------------------------------------------\u001B[0m",
      "\u001B[1;31mAttributeError\u001B[0m                            Traceback (most recent call last)",
      "Cell \u001B[1;32mIn[73], line 7\u001B[0m\n\u001B[0;32m      4\u001B[0m residuals \u001B[38;5;241m=\u001B[39m yte \u001B[38;5;241m-\u001B[39m yte_pred\n\u001B[0;32m      6\u001B[0m \u001B[38;5;66;03m# Fit the Poisson distribution to the residuals\u001B[39;00m\n\u001B[1;32m----> 7\u001B[0m poisson_params \u001B[38;5;241m=\u001B[39m \u001B[43mpoisson\u001B[49m\u001B[38;5;241;43m.\u001B[39;49m\u001B[43mfit\u001B[49m(residuals)\n\u001B[0;32m      9\u001B[0m \u001B[38;5;66;03m# Create a range of x values for the plot\u001B[39;00m\n\u001B[0;32m     10\u001B[0m x \u001B[38;5;241m=\u001B[39m np\u001B[38;5;241m.\u001B[39marange(\u001B[38;5;241m0\u001B[39m, np\u001B[38;5;241m.\u001B[39mmax(residuals) \u001B[38;5;241m+\u001B[39m \u001B[38;5;241m1\u001B[39m)\n",
      "\u001B[1;31mAttributeError\u001B[0m: 'poisson_gen' object has no attribute 'fit'"
     ]
    }
   ],
   "source": [
    "########### 1f Plot with Poison CPD #############\n",
    "from scipy.stats import poisson\n",
    "\n",
    "residuals = yte - yte_pred\n",
    "\n",
    "# Fit the Poisson distribution to the residuals\n",
    "poisson_params = poisson.fit(residuals)\n",
    "\n",
    "# Create a range of x values for the plot\n",
    "x = np.arange(0, np.max(residuals) + 1)\n",
    "\n",
    "# Calculate the probability mass function (PMF) for the Poisson distribution\n",
    "pmf = poisson.pmf(x, *poisson_params)\n",
    "\n",
    "# Calculate percentiles using the Poisson distribution\n",
    "percentiles = poisson.ppf([0.025, 0.975], *poisson_params)\n",
    "\n",
    "\n",
    "plt.bar(x, pmf, width=0.8, align='center', label='Poisson PMF')\n",
    "plt.axvline(x=percentiles[0], linestyle='--', label='2.5th Percentile')\n",
    "plt.axvline(x=percentiles[1], linestyle='--', label='97.5th Percentile')\n",
    "plt.legend()\n",
    "plt.xlabel('Predicted Fish')\n",
    "plt.ylabel('True fish')"
   ],
   "metadata": {
    "collapsed": false,
    "ExecuteTime": {
     "end_time": "2023-10-31T11:26:50.712728Z",
     "start_time": "2023-10-31T11:26:50.657930Z"
    }
   },
   "id": "763fa23e187bf619"
  }
 ],
 "metadata": {
  "kernelspec": {
   "display_name": "Python 3",
   "language": "python",
   "name": "python3"
  },
  "language_info": {
   "codemirror_mode": {
    "name": "ipython",
    "version": 2
   },
   "file_extension": ".py",
   "mimetype": "text/x-python",
   "name": "python",
   "nbconvert_exporter": "python",
   "pygments_lexer": "ipython2",
   "version": "2.7.6"
  }
 },
 "nbformat": 4,
 "nbformat_minor": 5
}
