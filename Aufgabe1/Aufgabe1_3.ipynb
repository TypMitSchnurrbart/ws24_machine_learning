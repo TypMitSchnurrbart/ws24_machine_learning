{
 "cells": [
  {
   "cell_type": "code",
   "execution_count": 1,
   "metadata": {
    "ExecuteTime": {
     "end_time": "2023-10-24T13:59:38.634923900Z",
     "start_time": "2023-10-24T13:59:37.463053400Z"
    }
   },
   "outputs": [
    {
     "data": {
      "text/plain": "Software versions\nPython 3.10.13 64bit [MSC v.1916 64 bit (AMD64)]\nIPython 8.15.0\nOS Windows 10 10.0.19045 SP0\nnumpy 1.26.0\npandas 2.1.1\nmatplotlib 3.7.2\nTue Oct 24 15:59:38 2023 Mitteleuropäische Sommerzeit",
      "text/html": "<table><tr><th>Software</th><th>Version</th></tr><tr><td>Python</td><td>3.10.13 64bit [MSC v.1916 64 bit (AMD64)]</td></tr><tr><td>IPython</td><td>8.15.0</td></tr><tr><td>OS</td><td>Windows 10 10.0.19045 SP0</td></tr><tr><td>numpy</td><td>1.26.0</td></tr><tr><td>pandas</td><td>2.1.1</td></tr><tr><td>matplotlib</td><td>3.7.2</td></tr><tr><td colspan='2'>Tue Oct 24 15:59:38 2023 Mitteleuropäische Sommerzeit</td></tr></table>",
      "text/latex": "\\begin{tabular}{|l|l|}\\hline\n{\\bf Software} & {\\bf Version} \\\\ \\hline\\hline\nPython & 3.10.13 64bit [MSC v.1916 64 bit (AMD64)] \\\\ \\hline\nIPython & 8.15.0 \\\\ \\hline\nOS & Windows 10 10.0.19045 SP0 \\\\ \\hline\nnumpy & 1.26.0 \\\\ \\hline\npandas & 2.1.1 \\\\ \\hline\nmatplotlib & 3.7.2 \\\\ \\hline\n\\hline \\multicolumn{2}{|l|}{Tue Oct 24 15:59:38 2023 Mitteleuropäische Sommerzeit} \\\\ \\hline\n\\end{tabular}\n",
      "application/json": {
       "Software versions": [
        {
         "module": "Python",
         "version": "3.10.13 64bit [MSC v.1916 64 bit (AMD64)]"
        },
        {
         "module": "IPython",
         "version": "8.15.0"
        },
        {
         "module": "OS",
         "version": "Windows 10 10.0.19045 SP0"
        },
        {
         "module": "numpy",
         "version": "1.26.0"
        },
        {
         "module": "pandas",
         "version": "2.1.1"
        },
        {
         "module": "matplotlib",
         "version": "3.7.2"
        }
       ]
      }
     },
     "execution_count": 1,
     "metadata": {},
     "output_type": "execute_result"
    }
   ],
   "source": [
    "%load_ext version_information\n",
    "%version_information numpy, pandas, matplotlib"
   ]
  },
  {
   "cell_type": "code",
   "execution_count": 12,
   "outputs": [],
   "source": [
    "# ===== IMPORTS =======================================\n",
    "import math\n",
    "import matplotlib.pyplot as plt\n",
    "import numpy as np\n",
    "import pandas as pd"
   ],
   "metadata": {
    "collapsed": false,
    "ExecuteTime": {
     "end_time": "2023-10-24T14:08:38.693205700Z",
     "start_time": "2023-10-24T14:08:38.661954200Z"
    }
   }
  },
  {
   "cell_type": "code",
   "execution_count": 13,
   "metadata": {
    "ExecuteTime": {
     "end_time": "2023-10-24T14:08:52.002810300Z",
     "start_time": "2023-10-24T14:08:51.987187Z"
    }
   },
   "outputs": [],
   "source": [
    " # Import data\n",
    "data = pd.read_csv(\"boston.csv\")\n",
    "\n",
    "prices = data[\"TGT\"]\n",
    "\n",
    "data.drop(\"TGT\", axis=1, inplace=True)\n",
    "data.drop(\"Index\", axis=1, inplace=True)"
   ]
  },
  {
   "cell_type": "code",
   "execution_count": 14,
   "outputs": [],
   "source": [
    "# Center and normalize variance\n",
    "for entry in data:\n",
    "    variance = data[entry].var()\n",
    "    data[entry] -= data[entry].mean()\n",
    "    data[entry] /= math.sqrt(variance)"
   ],
   "metadata": {
    "collapsed": false,
    "ExecuteTime": {
     "end_time": "2023-10-24T14:09:03.706340100Z",
     "start_time": "2023-10-24T14:09:03.659464100Z"
    }
   }
  },
  {
   "cell_type": "code",
   "execution_count": 15,
   "outputs": [
    {
     "name": "stdout",
     "output_type": "stream",
     "text": [
      "Creating design matrix 506x13\n"
     ]
    }
   ],
   "source": [
    " # Creating the design matrix\n",
    "print(f\"Creating design matrix {len(data)}x{len(data.columns)}\")\n",
    "design_matrix = np.empty((len(data), len(data.columns)))\n",
    "design_matrix[:, :len(data.columns)] = data.values"
   ],
   "metadata": {
    "collapsed": false,
    "ExecuteTime": {
     "end_time": "2023-10-24T14:09:13.422555900Z",
     "start_time": "2023-10-24T14:09:13.391301800Z"
    }
   }
  },
  {
   "cell_type": "code",
   "execution_count": 16,
   "outputs": [],
   "source": [
    "# Compute svd\n",
    "U, D, V = np.linalg.svd(design_matrix)"
   ],
   "metadata": {
    "collapsed": false,
    "ExecuteTime": {
     "end_time": "2023-10-24T14:16:08.629539600Z",
     "start_time": "2023-10-24T14:16:08.582661500Z"
    }
   }
  },
  {
   "cell_type": "code",
   "execution_count": 17,
   "outputs": [],
   "source": [
    "# Change D so that it holds the Eigenvalues of the Covmatrix\n",
    "# The Change is needed because through svd we only get the deviation in not normalized\n",
    "# Those Eigenvalues represent the new variances of the transformed data\n",
    "# therefore D is the new Covariance Matrix, because the transformed data\n",
    "# is uncorrelated\n",
    "# The eigenvalues are ordered by greatness. So biggest eigenvalue is at (0, 0)\n",
    "new_cov_matrix = D**2 / (len(data)-1)\n",
    "eigenvectors = V"
   ],
   "metadata": {
    "collapsed": false,
    "ExecuteTime": {
     "end_time": "2023-10-24T14:16:35.111605100Z",
     "start_time": "2023-10-24T14:16:35.064693800Z"
    }
   }
  },
  {
   "cell_type": "code",
   "execution_count": 18,
   "outputs": [
    {
     "name": "stdout",
     "output_type": "stream",
     "text": [
      "           D  Erklärte Varianz  Kumulierte erklärte Varianz\n",
      "0   6.122655          0.470973                     0.470973\n",
      "1   1.432063          0.110159                     0.581132\n",
      "2   1.241163          0.095474                     0.676606\n",
      "3   0.857799          0.065985                     0.742591\n",
      "4   0.834566          0.064197                     0.806788\n",
      "5   0.659651          0.050742                     0.857531\n",
      "6   0.539017          0.041463                     0.898993\n",
      "7   0.396544          0.030503                     0.929497\n",
      "8   0.277435          0.021341                     0.950838\n",
      "9   0.220260          0.016943                     0.967781\n",
      "10  0.186164          0.014320                     0.982101\n",
      "11  0.169167          0.013013                     0.995114\n",
      "12  0.063516          0.004886                     1.000000\n"
     ]
    }
   ],
   "source": [
    "# Compute defined variance and cumulative\n",
    "l = len(new_cov_matrix)\n",
    "defined_variance = new_cov_matrix[:l]/np.sum(new_cov_matrix)\n",
    "cumulative_variance = np.cumsum(defined_variance)\n",
    "\n",
    "output_variance = pd.DataFrame({\n",
    "    \"D\" : new_cov_matrix,\n",
    "    \"Erklärte Varianz\" : defined_variance,\n",
    "    \"Kumulierte erklärte Varianz\" : cumulative_variance\n",
    "})\n",
    "\n",
    "print(f\"{output_variance}\\n\\n\")"
   ],
   "metadata": {
    "collapsed": false,
    "ExecuteTime": {
     "end_time": "2023-10-24T14:17:01.286719500Z",
     "start_time": "2023-10-24T14:17:01.255469100Z"
    }
   }
  },
  {
   "cell_type": "code",
   "execution_count": 20,
   "outputs": [],
   "source": [
    "# Transform the data\n",
    "scores = np.dot(design_matrix, eigenvectors[:3].T)\n",
    "scores = pd.DataFrame(scores, columns=[\"X\", \"Y\", \"Z\"])"
   ],
   "metadata": {
    "collapsed": false,
    "ExecuteTime": {
     "end_time": "2023-10-24T14:20:31.362931600Z",
     "start_time": "2023-10-24T14:20:31.327000100Z"
    }
   }
  },
  {
   "cell_type": "code",
   "execution_count": 22,
   "outputs": [
    {
     "name": "stdout",
     "output_type": "stream",
     "text": [
      "Korelationsmatrix mit ursprünglichen Daten:\n",
      "[[ 1.    0.    0.    0.62 -0.63  0.86  0.01  0.85 -0.47  0.78 -0.8   0.79\n",
      "   0.84  0.51 -0.5   0.77]\n",
      " [ 0.    1.   -0.   -0.37 -0.38  0.13  0.55  0.26  0.18  0.37 -0.42 -0.32\n",
      "  -0.29 -0.37  0.28 -0.09]\n",
      " [ 0.   -0.    1.    0.28  0.33 -0.02  0.32  0.13  0.66 -0.02 -0.05  0.32\n",
      "   0.25 -0.36 -0.34 -0.3 ]\n",
      " [ 0.62 -0.37  0.28  1.   -0.2   0.4  -0.06  0.42 -0.22  0.35 -0.38  0.62\n",
      "   0.58  0.29 -0.38  0.45]\n",
      " [-0.63 -0.38  0.33 -0.2   1.   -0.53 -0.04 -0.52  0.31 -0.57  0.66 -0.31\n",
      "  -0.31 -0.39  0.18 -0.41]\n",
      " [ 0.86  0.13 -0.02  0.4  -0.53  1.    0.06  0.76 -0.39  0.64 -0.71  0.6\n",
      "   0.72  0.38 -0.36  0.6 ]\n",
      " [ 0.01  0.55  0.32 -0.06 -0.04  0.06  1.    0.09  0.09  0.09 -0.1  -0.01\n",
      "  -0.04 -0.12  0.05 -0.05]\n",
      " [ 0.85  0.26  0.13  0.42 -0.52  0.76  0.09  1.   -0.3   0.73 -0.77  0.61\n",
      "   0.67  0.19 -0.38  0.59]\n",
      " [-0.47  0.18  0.66 -0.22  0.31 -0.39  0.09 -0.3   1.   -0.24  0.21 -0.21\n",
      "  -0.29 -0.36  0.13 -0.61]\n",
      " [ 0.78  0.37 -0.02  0.35 -0.57  0.64  0.09  0.73 -0.24  1.   -0.75  0.46\n",
      "   0.51  0.26 -0.27  0.6 ]\n",
      " [-0.8  -0.42 -0.05 -0.38  0.66 -0.71 -0.1  -0.77  0.21 -0.75  1.   -0.49\n",
      "  -0.53 -0.23  0.29 -0.5 ]\n",
      " [ 0.79 -0.32  0.32  0.62 -0.31  0.6  -0.01  0.61 -0.21  0.46 -0.49  1.\n",
      "   0.91  0.46 -0.44  0.49]\n",
      " [ 0.84 -0.29  0.25  0.58 -0.31  0.72 -0.04  0.67 -0.29  0.51 -0.53  0.91\n",
      "   1.    0.46 -0.44  0.54]\n",
      " [ 0.51 -0.37 -0.36  0.29 -0.39  0.38 -0.12  0.19 -0.36  0.26 -0.23  0.46\n",
      "   0.46  1.   -0.18  0.37]\n",
      " [-0.5   0.28 -0.34 -0.38  0.18 -0.36  0.05 -0.38  0.13 -0.27  0.29 -0.44\n",
      "  -0.44 -0.18  1.   -0.37]\n",
      " [ 0.77 -0.09 -0.3   0.45 -0.41  0.6  -0.05  0.59 -0.61  0.6  -0.5   0.49\n",
      "   0.54  0.37 -0.37  1.  ]]\n"
     ]
    }
   ],
   "source": [
    "# Compute correlation matrix with the original data\n",
    "combination = np.hstack((scores, design_matrix))\n",
    "multi_cov = np.corrcoef(combination, rowvar=False)\n",
    "print(f\"Korelationsmatrix mit ursprünglichen Daten:\\n{np.round(multi_cov,2)}\\n\\n\")"
   ],
   "metadata": {
    "collapsed": false,
    "ExecuteTime": {
     "end_time": "2023-10-24T14:22:10.709218Z",
     "start_time": "2023-10-24T14:22:10.631088900Z"
    }
   }
  },
  {
   "cell_type": "code",
   "execution_count": 23,
   "outputs": [
    {
     "name": "stderr",
     "output_type": "stream",
     "text": [
      "C:\\Users\\HTWG\\AppData\\Local\\Temp\\ipykernel_6536\\1768980600.py:9: SettingWithCopyWarning: \n",
      "A value is trying to be set on a copy of a slice from a DataFrame\n",
      "\n",
      "See the caveats in the documentation: https://pandas.pydata.org/pandas-docs/stable/user_guide/indexing.html#returning-a-view-versus-a-copy\n",
      "  lower.drop(\"TGT\", axis=1, inplace=True)\n",
      "C:\\Users\\HTWG\\AppData\\Local\\Temp\\ipykernel_6536\\1768980600.py:10: SettingWithCopyWarning: \n",
      "A value is trying to be set on a copy of a slice from a DataFrame\n",
      "\n",
      "See the caveats in the documentation: https://pandas.pydata.org/pandas-docs/stable/user_guide/indexing.html#returning-a-view-versus-a-copy\n",
      "  higher.drop(\"TGT\", axis=1, inplace=True)\n"
     ]
    },
    {
     "data": {
      "text/plain": "<Figure size 640x480 with 1 Axes>",
      "image/png": "[encoded data removed]"
     },
     "metadata": {},
     "output_type": "display_data"
    }
   ],
   "source": [
    "# Show the Scatter Plot\n",
    "scores.drop(\"Z\", axis=1, inplace=True)\n",
    "\n",
    "# Split according to price\n",
    "scores = scores.join(prices)\n",
    "lower = scores[scores[\"TGT\"] < prices.median()]\n",
    "higher = scores[scores[\"TGT\"] >= prices.median()]\n",
    "\n",
    "lower.drop(\"TGT\", axis=1, inplace=True)\n",
    "higher.drop(\"TGT\", axis=1, inplace=True)\n",
    "\n",
    "plt.scatter(lower[\"X\"], lower[\"Y\"], label=\"Lower than Median\", color=\"red\")\n",
    "plt.scatter(higher[\"X\"], higher[\"Y\"], label=\"Higher or equal than Median\", color=\"green\")\n",
    "plt.legend()\n",
    "plt.title(\"Transformed Data Scatter\")\n",
    "plt.show()"
   ],
   "metadata": {
    "collapsed": false,
    "ExecuteTime": {
     "end_time": "2023-10-24T14:23:26.440189500Z",
     "start_time": "2023-10-24T14:23:26.033846300Z"
    }
   }
  },
  {
   "cell_type": "code",
   "execution_count": null,
   "outputs": [],
   "source": [
    "# Eignung der neuen Variablen: Bedingt, da Bereiche in der Mitte doch sehr vermischt sind. Tendenz zu Cluster aber vorhanden."
   ],
   "metadata": {
    "collapsed": false
   }
  }
 ],
 "metadata": {
  "kernelspec": {
   "display_name": "Python 3",
   "language": "python",
   "name": "python3"
  },
  "language_info": {
   "codemirror_mode": {
    "name": "ipython",
    "version": 3
   },
   "file_extension": ".py",
   "mimetype": "text/x-python",
   "name": "python",
   "nbconvert_exporter": "python",
   "pygments_lexer": "ipython3",
   "version": "3.9.5"
  }
 },
 "nbformat": 4,
 "nbformat_minor": 2
}
