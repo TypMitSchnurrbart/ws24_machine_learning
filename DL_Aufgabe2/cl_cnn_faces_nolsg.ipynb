{
 "cells": [
  {
   "cell_type": "markdown",
   "metadata": {},
   "source": [
    "# Classification of Faces\n",
    "\n",
    "In this excercise, we try to classify images of : \"Miranda_Cosgrove\" \"Chris_Martin\" \"Emma_Stone\" \"Jamie_Foxx\" \"Steve_Jobs\" \"Zac_Efron\" \"Sandra_Oh\" \"Taryn_Manning\". The data is from a random sample of 8 persons of the OXFORD VGG Face dataset, more information here: http://www.robots.ox.ac.uk/~vgg/data/vgg_face/."
   ]
  },
  {
   "cell_type": "markdown",
   "metadata": {},
   "source": [
    "## Downloading of Data\n",
    "\n",
    "You can download the data using the following code:"
   ]
  },
  {
   "cell_type": "code",
   "execution_count": 42,
   "metadata": {},
   "outputs": [],
   "source": [
    "import gzip\n",
    "import numpy as np\n",
    "import matplotlib.pyplot as plt\n",
    "import tensorflow as tf\n",
    "from keras.preprocessing.image import ImageDataGenerator\n",
    "from keras.models import Sequential\n",
    "from keras.layers import Dense, Dropout, Activation, Flatten\n",
    "from keras.layers import Conv2D, MaxPooling2D\n",
    "from keras.optimizers import Adam"
   ]
  },
  {
   "cell_type": "code",
   "execution_count": 43,
   "metadata": {},
   "outputs": [],
   "source": [
    "# Downloading the data, if it does not exist, this will take some time... (>120MB)\n",
    "import urllib\n",
    "import os\n",
    "if not os.path.isfile('8_faces_train_and_valid.hdf5'):\n",
    "    urllib.request.urlretrieve(\"https://www.dropbox.com/s/dx03vk6dmbtoywn/8_faces_train_and_valid.hdf5?dl=1\",\"8_faces_train_and_valid.hdf5\")"
   ]
  },
  {
   "cell_type": "code",
   "execution_count": 44,
   "metadata": {},
   "outputs": [
    {
     "name": "stdout",
     "output_type": "stream",
     "text": [
      "<KeysViewHDF5 ['X_train_8_faces', 'X_valid_8_faces', 'Y_train_8_faces', 'Y_valid_8_faces']>\n",
      "<HDF5 dataset \"X_train_8_faces\": shape (2000, 48, 48, 3), type \"<f8\">\n",
      "(2000, 48, 48, 3)\n",
      "[[14. 17. 42.]\n",
      " [14. 17. 41.]\n",
      " [13. 18. 42.]\n",
      " [14. 18. 41.]\n",
      " [14. 18. 40.]\n",
      " [13. 17. 41.]\n",
      " [14. 17. 39.]\n",
      " [14. 17. 40.]\n",
      " [13. 17. 39.]\n",
      " [13. 17. 39.]\n",
      " [13. 17. 39.]\n",
      " [14. 16. 39.]\n",
      " [13. 16. 38.]\n",
      " [12. 15. 35.]\n",
      " [12. 15. 35.]\n",
      " [12. 15. 36.]\n",
      " [12. 15. 36.]\n",
      " [12. 15. 35.]\n",
      " [12. 15. 35.]\n",
      " [12. 15. 35.]\n",
      " [13. 15. 35.]\n",
      " [13. 15. 34.]\n",
      " [13. 15. 34.]\n",
      " [12. 15. 34.]\n",
      " [12. 14. 34.]\n",
      " [12. 15. 33.]\n",
      " [11. 15. 34.]\n",
      " [12. 14. 33.]\n",
      " [11. 14. 32.]\n",
      " [12. 14. 34.]\n",
      " [12. 14. 35.]\n",
      " [12. 14. 37.]\n",
      " [13. 15. 41.]\n",
      " [13. 15. 46.]\n",
      " [13. 15. 49.]\n",
      " [13. 15. 51.]\n",
      " [13. 16. 52.]\n",
      " [13. 16. 52.]\n",
      " [14. 16. 52.]\n",
      " [14. 17. 53.]\n",
      " [16. 18. 54.]\n",
      " [18. 19. 55.]\n",
      " [17. 19. 54.]\n",
      " [17. 19. 53.]\n",
      " [17. 19. 53.]\n",
      " [17. 19. 51.]\n",
      " [17. 18. 51.]\n",
      " [16. 18. 50.]]\n",
      "(2000,)\n",
      "(400, 48, 48, 3)\n",
      "(400,) float64\n"
     ]
    }
   ],
   "source": [
    "import h5py\n",
    "h5f_X = h5py.File('8_faces_train_and_valid.hdf5', 'r')\n",
    "print(h5f_X.keys())\n",
    "\n",
    "print(h5f_X[\"X_train_8_faces\"])\n",
    "\n",
    "X_train = h5f_X['X_train_8_faces'][:]\n",
    "print(X_train.shape)\n",
    "print(X_train[0][0])\n",
    "Y_train = h5f_X['Y_train_8_faces'][:]\n",
    "print(Y_train.shape)\n",
    "X_valid = h5f_X['X_valid_8_faces'][:]\n",
    "print(X_valid.shape)\n",
    "Y_valid = h5f_X['Y_valid_8_faces'][:]\n",
    "print(Y_valid.shape, X_valid.dtype)"
   ]
  },
  {
   "cell_type": "code",
   "execution_count": 45,
   "metadata": {},
   "outputs": [
    {
     "name": "stdout",
     "output_type": "stream",
     "text": [
      "250\n"
     ]
    },
    {
     "data": {
      "text/plain": [
       "<matplotlib.image.AxesImage at 0x1b107f95d30>"
      ]
     },
     "execution_count": 45,
     "metadata": {},
     "output_type": "execute_result"
    },
    {
     "data": {
      "image/png": "[encoded data removed]",
      "text/plain": [
       "<Figure size 640x480 with 1 Axes>"
      ]
     },
     "metadata": {},
     "output_type": "display_data"
    }
   ],
   "source": [
    "n = 0 #Miranda Cosgrove\n",
    "n = 1 #Chris Martin (singer)\n",
    "n = 2 #Emma Stone (actress)\n",
    "n = 3 #Jamie Foxx (actor)\n",
    "n = 4 #Steve Jobs (entrepreneur)\n",
    "n = 5 #Zac Efron (actor)\n",
    "n = 6 #Sandra Oh (actress)\n",
    "n = 7 #Taryn Manning (actress)\n",
    "n = 2\n",
    "idx=np.reshape(np.where(Y_train[0:len(Y_train)]==n),(250))\n",
    "print(len(Y_train[idx]))\n",
    "plt.imshow(np.asarray(X_train[idx][0],dtype=\"uint8\"))"
   ]
  },
  {
   "cell_type": "code",
   "execution_count": 46,
   "metadata": {},
   "outputs": [
    {
     "name": "stdout",
     "output_type": "stream",
     "text": [
      "['X_test_8_faces', 'Y_test_8_faces']\n",
      "(400, 48, 48, 3)\n",
      "(400,)\n"
     ]
    }
   ],
   "source": [
    "#Downloading the data, if it does not exist\n",
    "if not os.path.isfile('8_faces_test.hdf5'):\n",
    "  urllib.request.urlretrieve(\"https://www.dropbox.com/s/ugxrdo0lpc2ixvr/8_faces_test.hdf5?dl=1\",\"8_faces_test.hdf5\")\n",
    "h5f_X = h5py.File('8_faces_test.hdf5', 'r')\n",
    "print(list(h5f_X.keys()))\n",
    "X_test = h5f_X['X_test_8_faces'][:]\n",
    "print(X_test.shape)\n",
    "Y_test = h5f_X['Y_test_8_faces'][:]\n",
    "print(Y_test.shape)"
   ]
  },
  {
   "cell_type": "code",
   "execution_count": 47,
   "metadata": {},
   "outputs": [],
   "source": [
    "np.min(X_train),np.max(X_train),np.min(X_test),np.max(X_test)\n",
    "X_train /= 255\n",
    "X_valid /= 255\n",
    "X_test /= 255"
   ]
  },
  {
   "cell_type": "markdown",
   "metadata": {},
   "source": [
    "## a) Training an CNN from scratch\n",
    "\n",
    "Train a model (as shown below) from scratch, using the training data for training and the validation data for validation. For all activations in the hidden layer use the 'ReLU', for the last layer use softmax. Use 3x3 convolutions and use padding = same.\n",
    "\n",
    "* Plot the learning curves: (epochs vs training loss and validation loss) and epochs vs accuracy. \n",
    "* Calculate the accuracy on the test set (you should reach an accuracy of about 0.54)\n",
    "* Calculate the confusion matrix\n",
    "* Have a look at missclassified examples\n",
    "\n",
    "Image of the network:\n",
    "https://github.com/ioskn/mldl_htwg/blob/master/uebungen/dl_cnn_faces_net.png"
   ]
  },
  {
   "cell_type": "code",
   "execution_count": 48,
   "metadata": {},
   "outputs": [
    {
     "name": "stdout",
     "output_type": "stream",
     "text": [
      "Epoch 1/10\n"
     ]
    },
    {
     "ename": "InvalidArgumentError",
     "evalue": "Graph execution error:\n\nDetected at node 'Equal' defined at (most recent call last):\n    File \"c:\\Program Files\\Python38\\lib\\runpy.py\", line 192, in _run_module_as_main\n      return _run_code(code, main_globals, None,\n    File \"c:\\Program Files\\Python38\\lib\\runpy.py\", line 85, in _run_code\n      exec(code, run_globals)\n    File \"C:\\Users\\Z0010961\\AppData\\Roaming\\Python\\Python38\\site-packages\\ipykernel_launcher.py\", line 17, in <module>\n      app.launch_new_instance()\n    File \"C:\\Users\\Z0010961\\AppData\\Roaming\\Python\\Python38\\site-packages\\traitlets\\config\\application.py\", line 1077, in launch_instance\n      app.start()\n    File \"C:\\Users\\Z0010961\\AppData\\Roaming\\Python\\Python38\\site-packages\\ipykernel\\kernelapp.py\", line 739, in start\n      self.io_loop.start()\n    File \"C:\\Users\\Z0010961\\AppData\\Roaming\\Python\\Python38\\site-packages\\tornado\\platform\\asyncio.py\", line 205, in start\n      self.asyncio_loop.run_forever()\n    File \"c:\\Program Files\\Python38\\lib\\asyncio\\base_events.py\", line 563, in run_forever\n      self._run_once()\n    File \"c:\\Program Files\\Python38\\lib\\asyncio\\base_events.py\", line 1844, in _run_once\n      handle._run()\n    File \"c:\\Program Files\\Python38\\lib\\asyncio\\events.py\", line 81, in _run\n      self._context.run(self._callback, *self._args)\n    File \"C:\\Users\\Z0010961\\AppData\\Roaming\\Python\\Python38\\site-packages\\ipykernel\\kernelbase.py\", line 529, in dispatch_queue\n      await self.process_one()\n    File \"C:\\Users\\Z0010961\\AppData\\Roaming\\Python\\Python38\\site-packages\\ipykernel\\kernelbase.py\", line 518, in process_one\n      await dispatch(*args)\n    File \"C:\\Users\\Z0010961\\AppData\\Roaming\\Python\\Python38\\site-packages\\ipykernel\\kernelbase.py\", line 424, in dispatch_shell\n      await result\n    File \"C:\\Users\\Z0010961\\AppData\\Roaming\\Python\\Python38\\site-packages\\ipykernel\\kernelbase.py\", line 766, in execute_request\n      reply_content = await reply_content\n    File \"C:\\Users\\Z0010961\\AppData\\Roaming\\Python\\Python38\\site-packages\\ipykernel\\ipkernel.py\", line 429, in do_execute\n      res = shell.run_cell(\n    File \"C:\\Users\\Z0010961\\AppData\\Roaming\\Python\\Python38\\site-packages\\ipykernel\\zmqshell.py\", line 549, in run_cell\n      return super().run_cell(*args, **kwargs)\n    File \"C:\\Users\\Z0010961\\AppData\\Roaming\\Python\\Python38\\site-packages\\IPython\\core\\interactiveshell.py\", line 3009, in run_cell\n      result = self._run_cell(\n    File \"C:\\Users\\Z0010961\\AppData\\Roaming\\Python\\Python38\\site-packages\\IPython\\core\\interactiveshell.py\", line 3064, in _run_cell\n      result = runner(coro)\n    File \"C:\\Users\\Z0010961\\AppData\\Roaming\\Python\\Python38\\site-packages\\IPython\\core\\async_helpers.py\", line 129, in _pseudo_sync_runner\n      coro.send(None)\n    File \"C:\\Users\\Z0010961\\AppData\\Roaming\\Python\\Python38\\site-packages\\IPython\\core\\interactiveshell.py\", line 3269, in run_cell_async\n      has_raised = await self.run_ast_nodes(code_ast.body, cell_name,\n    File \"C:\\Users\\Z0010961\\AppData\\Roaming\\Python\\Python38\\site-packages\\IPython\\core\\interactiveshell.py\", line 3448, in run_ast_nodes\n      if await self.run_code(code, result, async_=asy):\n    File \"C:\\Users\\Z0010961\\AppData\\Roaming\\Python\\Python38\\site-packages\\IPython\\core\\interactiveshell.py\", line 3508, in run_code\n      exec(code_obj, self.user_global_ns, self.user_ns)\n    File \"C:\\Users\\Z0010961\\AppData\\Local\\Temp\\ipykernel_21920\\2106220063.py\", line 21, in <module>\n      history = model.fit(X_train, X_train, epochs=10, validation_data=(Y_valid, Y_valid))\n    File \"C:\\Users\\Z0010961\\AppData\\Roaming\\Python\\Python38\\site-packages\\keras\\src\\utils\\traceback_utils.py\", line 65, in error_handler\n      return fn(*args, **kwargs)\n    File \"C:\\Users\\Z0010961\\AppData\\Roaming\\Python\\Python38\\site-packages\\keras\\src\\engine\\training.py\", line 1742, in fit\n      tmp_logs = self.train_function(iterator)\n    File \"C:\\Users\\Z0010961\\AppData\\Roaming\\Python\\Python38\\site-packages\\keras\\src\\engine\\training.py\", line 1338, in train_function\n      return step_function(self, iterator)\n    File \"C:\\Users\\Z0010961\\AppData\\Roaming\\Python\\Python38\\site-packages\\keras\\src\\engine\\training.py\", line 1322, in step_function\n      outputs = model.distribute_strategy.run(run_step, args=(data,))\n    File \"C:\\Users\\Z0010961\\AppData\\Roaming\\Python\\Python38\\site-packages\\keras\\src\\engine\\training.py\", line 1303, in run_step\n      outputs = model.train_step(data)\n    File \"C:\\Users\\Z0010961\\AppData\\Roaming\\Python\\Python38\\site-packages\\keras\\src\\engine\\training.py\", line 1085, in train_step\n      return self.compute_metrics(x, y, y_pred, sample_weight)\n    File \"C:\\Users\\Z0010961\\AppData\\Roaming\\Python\\Python38\\site-packages\\keras\\src\\engine\\training.py\", line 1179, in compute_metrics\n      self.compiled_metrics.update_state(y, y_pred, sample_weight)\n    File \"C:\\Users\\Z0010961\\AppData\\Roaming\\Python\\Python38\\site-packages\\keras\\src\\engine\\compile_utils.py\", line 605, in update_state\n      metric_obj.update_state(y_t, y_p, sample_weight=mask)\n    File \"C:\\Users\\Z0010961\\AppData\\Roaming\\Python\\Python38\\site-packages\\keras\\src\\utils\\metrics_utils.py\", line 77, in decorated\n      update_op = update_state_fn(*args, **kwargs)\n    File \"C:\\Users\\Z0010961\\AppData\\Roaming\\Python\\Python38\\site-packages\\keras\\src\\metrics\\base_metric.py\", line 140, in update_state_fn\n      return ag_update_state(*args, **kwargs)\n    File \"C:\\Users\\Z0010961\\AppData\\Roaming\\Python\\Python38\\site-packages\\keras\\src\\metrics\\base_metric.py\", line 723, in update_state\n      matches = ag_fn(y_true, y_pred, **self._fn_kwargs)\n    File \"C:\\Users\\Z0010961\\AppData\\Roaming\\Python\\Python38\\site-packages\\keras\\src\\metrics\\accuracy_metrics.py\", line 426, in categorical_accuracy\n      return metrics_utils.sparse_categorical_matches(\n    File \"C:\\Users\\Z0010961\\AppData\\Roaming\\Python\\Python38\\site-packages\\keras\\src\\utils\\metrics_utils.py\", line 968, in sparse_categorical_matches\n      matches = tf.cast(tf.equal(y_true, y_pred), backend.floatx())\nNode: 'Equal'\nIncompatible shapes: [32,48,48] vs. [32]\n\t [[{{node Equal}}]] [Op:__inference_train_function_6269]",
     "output_type": "error",
     "traceback": [
      "\u001b[1;31m---------------------------------------------------------------------------\u001b[0m",
      "\u001b[1;31mInvalidArgumentError\u001b[0m                      Traceback (most recent call last)",
      "Cell \u001b[1;32mIn[48], line 21\u001b[0m\n\u001b[0;32m     15\u001b[0m model\u001b[38;5;241m.\u001b[39mcompile(optimizer\u001b[38;5;241m=\u001b[39mAdam(learning_rate\u001b[38;5;241m=\u001b[39m\u001b[38;5;241m0.001\u001b[39m),\n\u001b[0;32m     16\u001b[0m               loss\u001b[38;5;241m=\u001b[39m\u001b[38;5;124m'\u001b[39m\u001b[38;5;124msparse_categorical_crossentropy\u001b[39m\u001b[38;5;124m'\u001b[39m,\n\u001b[0;32m     17\u001b[0m               metrics\u001b[38;5;241m=\u001b[39m[\u001b[38;5;124m'\u001b[39m\u001b[38;5;124maccuracy\u001b[39m\u001b[38;5;124m'\u001b[39m])\n\u001b[0;32m     20\u001b[0m \u001b[38;5;66;03m# Train it\u001b[39;00m\n\u001b[1;32m---> 21\u001b[0m history \u001b[38;5;241m=\u001b[39m \u001b[43mmodel\u001b[49m\u001b[38;5;241;43m.\u001b[39;49m\u001b[43mfit\u001b[49m\u001b[43m(\u001b[49m\u001b[43mX_train\u001b[49m\u001b[43m,\u001b[49m\u001b[43m \u001b[49m\u001b[43mX_train\u001b[49m\u001b[43m,\u001b[49m\u001b[43m \u001b[49m\u001b[43mepochs\u001b[49m\u001b[38;5;241;43m=\u001b[39;49m\u001b[38;5;241;43m10\u001b[39;49m\u001b[43m,\u001b[49m\u001b[43m \u001b[49m\u001b[43mvalidation_data\u001b[49m\u001b[38;5;241;43m=\u001b[39;49m\u001b[43m(\u001b[49m\u001b[43mY_valid\u001b[49m\u001b[43m,\u001b[49m\u001b[43m \u001b[49m\u001b[43mY_valid\u001b[49m\u001b[43m)\u001b[49m\u001b[43m)\u001b[49m\n",
      "File \u001b[1;32m~\\AppData\\Roaming\\Python\\Python38\\site-packages\\keras\\src\\utils\\traceback_utils.py:70\u001b[0m, in \u001b[0;36mfilter_traceback.<locals>.error_handler\u001b[1;34m(*args, **kwargs)\u001b[0m\n\u001b[0;32m     67\u001b[0m     filtered_tb \u001b[38;5;241m=\u001b[39m _process_traceback_frames(e\u001b[38;5;241m.\u001b[39m__traceback__)\n\u001b[0;32m     68\u001b[0m     \u001b[38;5;66;03m# To get the full stack trace, call:\u001b[39;00m\n\u001b[0;32m     69\u001b[0m     \u001b[38;5;66;03m# `tf.debugging.disable_traceback_filtering()`\u001b[39;00m\n\u001b[1;32m---> 70\u001b[0m     \u001b[38;5;28;01mraise\u001b[39;00m e\u001b[38;5;241m.\u001b[39mwith_traceback(filtered_tb) \u001b[38;5;28;01mfrom\u001b[39;00m \u001b[38;5;28mNone\u001b[39m\n\u001b[0;32m     71\u001b[0m \u001b[38;5;28;01mfinally\u001b[39;00m:\n\u001b[0;32m     72\u001b[0m     \u001b[38;5;28;01mdel\u001b[39;00m filtered_tb\n",
      "File \u001b[1;32m~\\AppData\\Roaming\\Python\\Python38\\site-packages\\tensorflow\\python\\eager\\execute.py:53\u001b[0m, in \u001b[0;36mquick_execute\u001b[1;34m(op_name, num_outputs, inputs, attrs, ctx, name)\u001b[0m\n\u001b[0;32m     51\u001b[0m \u001b[38;5;28;01mtry\u001b[39;00m:\n\u001b[0;32m     52\u001b[0m   ctx\u001b[38;5;241m.\u001b[39mensure_initialized()\n\u001b[1;32m---> 53\u001b[0m   tensors \u001b[38;5;241m=\u001b[39m pywrap_tfe\u001b[38;5;241m.\u001b[39mTFE_Py_Execute(ctx\u001b[38;5;241m.\u001b[39m_handle, device_name, op_name,\n\u001b[0;32m     54\u001b[0m                                       inputs, attrs, num_outputs)\n\u001b[0;32m     55\u001b[0m \u001b[38;5;28;01mexcept\u001b[39;00m core\u001b[38;5;241m.\u001b[39m_NotOkStatusException \u001b[38;5;28;01mas\u001b[39;00m e:\n\u001b[0;32m     56\u001b[0m   \u001b[38;5;28;01mif\u001b[39;00m name \u001b[38;5;129;01mis\u001b[39;00m \u001b[38;5;129;01mnot\u001b[39;00m \u001b[38;5;28;01mNone\u001b[39;00m:\n",
      "\u001b[1;31mInvalidArgumentError\u001b[0m: Graph execution error:\n\nDetected at node 'Equal' defined at (most recent call last):\n    File \"c:\\Program Files\\Python38\\lib\\runpy.py\", line 192, in _run_module_as_main\n      return _run_code(code, main_globals, None,\n    File \"c:\\Program Files\\Python38\\lib\\runpy.py\", line 85, in _run_code\n      exec(code, run_globals)\n    File \"C:\\Users\\Z0010961\\AppData\\Roaming\\Python\\Python38\\site-packages\\ipykernel_launcher.py\", line 17, in <module>\n      app.launch_new_instance()\n    File \"C:\\Users\\Z0010961\\AppData\\Roaming\\Python\\Python38\\site-packages\\traitlets\\config\\application.py\", line 1077, in launch_instance\n      app.start()\n    File \"C:\\Users\\Z0010961\\AppData\\Roaming\\Python\\Python38\\site-packages\\ipykernel\\kernelapp.py\", line 739, in start\n      self.io_loop.start()\n    File \"C:\\Users\\Z0010961\\AppData\\Roaming\\Python\\Python38\\site-packages\\tornado\\platform\\asyncio.py\", line 205, in start\n      self.asyncio_loop.run_forever()\n    File \"c:\\Program Files\\Python38\\lib\\asyncio\\base_events.py\", line 563, in run_forever\n      self._run_once()\n    File \"c:\\Program Files\\Python38\\lib\\asyncio\\base_events.py\", line 1844, in _run_once\n      handle._run()\n    File \"c:\\Program Files\\Python38\\lib\\asyncio\\events.py\", line 81, in _run\n      self._context.run(self._callback, *self._args)\n    File \"C:\\Users\\Z0010961\\AppData\\Roaming\\Python\\Python38\\site-packages\\ipykernel\\kernelbase.py\", line 529, in dispatch_queue\n      await self.process_one()\n    File \"C:\\Users\\Z0010961\\AppData\\Roaming\\Python\\Python38\\site-packages\\ipykernel\\kernelbase.py\", line 518, in process_one\n      await dispatch(*args)\n    File \"C:\\Users\\Z0010961\\AppData\\Roaming\\Python\\Python38\\site-packages\\ipykernel\\kernelbase.py\", line 424, in dispatch_shell\n      await result\n    File \"C:\\Users\\Z0010961\\AppData\\Roaming\\Python\\Python38\\site-packages\\ipykernel\\kernelbase.py\", line 766, in execute_request\n      reply_content = await reply_content\n    File \"C:\\Users\\Z0010961\\AppData\\Roaming\\Python\\Python38\\site-packages\\ipykernel\\ipkernel.py\", line 429, in do_execute\n      res = shell.run_cell(\n    File \"C:\\Users\\Z0010961\\AppData\\Roaming\\Python\\Python38\\site-packages\\ipykernel\\zmqshell.py\", line 549, in run_cell\n      return super().run_cell(*args, **kwargs)\n    File \"C:\\Users\\Z0010961\\AppData\\Roaming\\Python\\Python38\\site-packages\\IPython\\core\\interactiveshell.py\", line 3009, in run_cell\n      result = self._run_cell(\n    File \"C:\\Users\\Z0010961\\AppData\\Roaming\\Python\\Python38\\site-packages\\IPython\\core\\interactiveshell.py\", line 3064, in _run_cell\n      result = runner(coro)\n    File \"C:\\Users\\Z0010961\\AppData\\Roaming\\Python\\Python38\\site-packages\\IPython\\core\\async_helpers.py\", line 129, in _pseudo_sync_runner\n      coro.send(None)\n    File \"C:\\Users\\Z0010961\\AppData\\Roaming\\Python\\Python38\\site-packages\\IPython\\core\\interactiveshell.py\", line 3269, in run_cell_async\n      has_raised = await self.run_ast_nodes(code_ast.body, cell_name,\n    File \"C:\\Users\\Z0010961\\AppData\\Roaming\\Python\\Python38\\site-packages\\IPython\\core\\interactiveshell.py\", line 3448, in run_ast_nodes\n      if await self.run_code(code, result, async_=asy):\n    File \"C:\\Users\\Z0010961\\AppData\\Roaming\\Python\\Python38\\site-packages\\IPython\\core\\interactiveshell.py\", line 3508, in run_code\n      exec(code_obj, self.user_global_ns, self.user_ns)\n    File \"C:\\Users\\Z0010961\\AppData\\Local\\Temp\\ipykernel_21920\\2106220063.py\", line 21, in <module>\n      history = model.fit(X_train, X_train, epochs=10, validation_data=(Y_valid, Y_valid))\n    File \"C:\\Users\\Z0010961\\AppData\\Roaming\\Python\\Python38\\site-packages\\keras\\src\\utils\\traceback_utils.py\", line 65, in error_handler\n      return fn(*args, **kwargs)\n    File \"C:\\Users\\Z0010961\\AppData\\Roaming\\Python\\Python38\\site-packages\\keras\\src\\engine\\training.py\", line 1742, in fit\n      tmp_logs = self.train_function(iterator)\n    File \"C:\\Users\\Z0010961\\AppData\\Roaming\\Python\\Python38\\site-packages\\keras\\src\\engine\\training.py\", line 1338, in train_function\n      return step_function(self, iterator)\n    File \"C:\\Users\\Z0010961\\AppData\\Roaming\\Python\\Python38\\site-packages\\keras\\src\\engine\\training.py\", line 1322, in step_function\n      outputs = model.distribute_strategy.run(run_step, args=(data,))\n    File \"C:\\Users\\Z0010961\\AppData\\Roaming\\Python\\Python38\\site-packages\\keras\\src\\engine\\training.py\", line 1303, in run_step\n      outputs = model.train_step(data)\n    File \"C:\\Users\\Z0010961\\AppData\\Roaming\\Python\\Python38\\site-packages\\keras\\src\\engine\\training.py\", line 1085, in train_step\n      return self.compute_metrics(x, y, y_pred, sample_weight)\n    File \"C:\\Users\\Z0010961\\AppData\\Roaming\\Python\\Python38\\site-packages\\keras\\src\\engine\\training.py\", line 1179, in compute_metrics\n      self.compiled_metrics.update_state(y, y_pred, sample_weight)\n    File \"C:\\Users\\Z0010961\\AppData\\Roaming\\Python\\Python38\\site-packages\\keras\\src\\engine\\compile_utils.py\", line 605, in update_state\n      metric_obj.update_state(y_t, y_p, sample_weight=mask)\n    File \"C:\\Users\\Z0010961\\AppData\\Roaming\\Python\\Python38\\site-packages\\keras\\src\\utils\\metrics_utils.py\", line 77, in decorated\n      update_op = update_state_fn(*args, **kwargs)\n    File \"C:\\Users\\Z0010961\\AppData\\Roaming\\Python\\Python38\\site-packages\\keras\\src\\metrics\\base_metric.py\", line 140, in update_state_fn\n      return ag_update_state(*args, **kwargs)\n    File \"C:\\Users\\Z0010961\\AppData\\Roaming\\Python\\Python38\\site-packages\\keras\\src\\metrics\\base_metric.py\", line 723, in update_state\n      matches = ag_fn(y_true, y_pred, **self._fn_kwargs)\n    File \"C:\\Users\\Z0010961\\AppData\\Roaming\\Python\\Python38\\site-packages\\keras\\src\\metrics\\accuracy_metrics.py\", line 426, in categorical_accuracy\n      return metrics_utils.sparse_categorical_matches(\n    File \"C:\\Users\\Z0010961\\AppData\\Roaming\\Python\\Python38\\site-packages\\keras\\src\\utils\\metrics_utils.py\", line 968, in sparse_categorical_matches\n      matches = tf.cast(tf.equal(y_true, y_pred), backend.floatx())\nNode: 'Equal'\nIncompatible shapes: [32,48,48] vs. [32]\n\t [[{{node Equal}}]] [Op:__inference_train_function_6269]"
     ]
    }
   ],
   "source": [
    "# Define our new model\n",
    "model = Sequential()\n",
    "model.add(Conv2D(15, (3, 3), input_shape=(48, 48, 3), name='conv2d_4', padding=\"same\", activation=\"relu\"))\n",
    "model.add(Conv2D(15, (3, 3), input_shape=(48, 48, 3), name='conv2d_5', padding=\"same\", activation=\"relu\"))\n",
    "model.add(MaxPooling2D(pool_size=(2, 2), name='max_pooling2d_2', padding=\"same\"))\n",
    "model.add(Conv2D(30, (3, 3), input_shape=(24, 24, 3), name='conv2d_6', padding=\"same\", activation=\"relu\"))\n",
    "model.add(Conv2D(30, (3, 3), input_shape=(24, 24, 3), name='conv2d_7', padding=\"same\", activation=\"relu\"))\n",
    "model.add(MaxPooling2D(pool_size=(2, 2), name='max_pooling2d_3', padding=\"same\"))\n",
    "model.add(Flatten(name='flatten_2'))\n",
    "model.add(Dense(300, activation='relu', name='dense_2'))\n",
    "model.add(Dropout(0.2, name=\"dropout\"))\n",
    "model.add(Dense(8, activation='softmax', name='dense_3'))\n",
    "\n",
    "# Compile it\n",
    "model.compile(optimizer=Adam(learning_rate=0.001),\n",
    "              loss='sparse_categorical_crossentropy',\n",
    "              metrics=['accuracy'])\n",
    "\n",
    "\n",
    "# Train it\n",
    "history = model.fit(X_train, X_train, epochs=10, validation_data=(Y_valid, Y_valid))\n"
   ]
  },
  {
   "cell_type": "markdown",
   "metadata": {},
   "source": [
    "## b) Training using transfer learning\n",
    "In transfer learning you use an existing trained model with given weights trained on a different task. You then add a few layers yourself and only train them. The model you add should look like:\n",
    "\n",
    "```\n",
    "my_dense1 (Dense)            (None, 512)               262656    \n",
    "_________________________________________________________________\n",
    "my_dense2 (Dense)            (None, 512)               262656    \n",
    "_________________________________________________________________\n",
    "my_dense3 (Dense)            (None, 100)               51300     \n",
    "_________________________________________________________________\n",
    "my_dense4 (Dense)            (None, 8)                 808       \n",
    "```\n",
    "\n",
    "Use the following code as a starting point:"
   ]
  },
  {
   "cell_type": "code",
   "execution_count": null,
   "metadata": {},
   "outputs": [
    {
     "name": "stdout",
     "output_type": "stream",
     "text": [
      "Downloading data from https://storage.googleapis.com/tensorflow/keras-applications/vgg16/vgg16_weights_tf_dim_ordering_tf_kernels_notop.h5\n",
      "58889256/58889256 [==============================] - 12s 0us/step\n"
     ]
    }
   ],
   "source": [
    "from keras.applications import VGG16\n",
    "img_height = img_width = 48\n",
    "base_model = VGG16(weights='imagenet', include_top=False,input_shape = (img_width, img_height, 3))"
   ]
  },
  {
   "cell_type": "code",
   "execution_count": null,
   "metadata": {},
   "outputs": [
    {
     "name": "stdout",
     "output_type": "stream",
     "text": [
      "Model: \"model\"\n",
      "_________________________________________________________________\n",
      " Layer (type)                Output Shape              Param #   \n",
      "=================================================================\n",
      " input_1 (InputLayer)        [(None, 48, 48, 3)]       0         \n",
      "                                                                 \n",
      " block1_conv1 (Conv2D)       (None, 48, 48, 64)        1792      \n",
      "                                                                 \n",
      " block1_conv2 (Conv2D)       (None, 48, 48, 64)        36928     \n",
      "                                                                 \n",
      " block1_pool (MaxPooling2D)  (None, 24, 24, 64)        0         \n",
      "                                                                 \n",
      " block2_conv1 (Conv2D)       (None, 24, 24, 128)       73856     \n",
      "                                                                 \n",
      " block2_conv2 (Conv2D)       (None, 24, 24, 128)       147584    \n",
      "                                                                 \n",
      " block2_pool (MaxPooling2D)  (None, 12, 12, 128)       0         \n",
      "                                                                 \n",
      " block3_conv1 (Conv2D)       (None, 12, 12, 256)       295168    \n",
      "                                                                 \n",
      " block3_conv2 (Conv2D)       (None, 12, 12, 256)       590080    \n",
      "                                                                 \n",
      " block3_conv3 (Conv2D)       (None, 12, 12, 256)       590080    \n",
      "                                                                 \n",
      " block3_pool (MaxPooling2D)  (None, 6, 6, 256)         0         \n",
      "                                                                 \n",
      " block4_conv1 (Conv2D)       (None, 6, 6, 512)         1180160   \n",
      "                                                                 \n",
      " block4_conv2 (Conv2D)       (None, 6, 6, 512)         2359808   \n",
      "                                                                 \n",
      " block4_conv3 (Conv2D)       (None, 6, 6, 512)         2359808   \n",
      "                                                                 \n",
      " block4_pool (MaxPooling2D)  (None, 3, 3, 512)         0         \n",
      "                                                                 \n",
      " block5_conv1 (Conv2D)       (None, 3, 3, 512)         2359808   \n",
      "                                                                 \n",
      " block5_conv2 (Conv2D)       (None, 3, 3, 512)         2359808   \n",
      "                                                                 \n",
      " block5_conv3 (Conv2D)       (None, 3, 3, 512)         2359808   \n",
      "                                                                 \n",
      " block5_pool (MaxPooling2D)  (None, 1, 1, 512)         0         \n",
      "                                                                 \n",
      " flatten (Flatten)           (None, 512)               0         \n",
      "                                                                 \n",
      " my_dense4 (Dense)           (None, 8)                 4104      \n",
      "                                                                 \n",
      "=================================================================\n",
      "Total params: 14718792 (56.15 MB)\n",
      "Trainable params: 14718792 (56.15 MB)\n",
      "Non-trainable params: 0 (0.00 Byte)\n",
      "_________________________________________________________________\n"
     ]
    }
   ],
   "source": [
    "fc1 = base_model.output\n",
    "fc1 = Flatten()(fc1)\n",
    "#...\n",
    "#Your code here\n",
    "#...\n",
    "fc1 = Dense(8,activation='softmax', name='my_dense4')(fc1)\n",
    "model_trans = tf.compat.v1.keras.Model(base_model.input, fc1) #Current hack for TF 2.0 and keras\n",
    "model_trans.summary()"
   ]
  },
  {
   "cell_type": "code",
   "execution_count": null,
   "metadata": {},
   "outputs": [
    {
     "name": "stdout",
     "output_type": "stream",
     "text": [
      "my_dense4\n"
     ]
    }
   ],
   "source": [
    "#base_model.summary()\n",
    "for layer in model_trans.layers:\n",
    "  name = layer.name\n",
    "  if name.startswith('my'):\n",
    "    layer.trainable = True\n",
    "    print(name)\n",
    "  else:\n",
    "    layer.trainable = False"
   ]
  },
  {
   "cell_type": "markdown",
   "metadata": {},
   "source": [
    "Do the same analysis as in a) above. You should get an accuracy of approx 0.61"
   ]
  },
  {
   "cell_type": "markdown",
   "metadata": {},
   "source": [
    "## c) Try to get better.\n",
    "\n",
    "Ideas: use dropout and other tricks to prevent overfitting. Try to learn some convulutional layers as well."
   ]
  },
  {
   "cell_type": "code",
   "execution_count": null,
   "metadata": {},
   "outputs": [],
   "source": []
  }
 ],
 "metadata": {
  "kernelspec": {
   "display_name": "Python 3",
   "language": "python",
   "name": "python3"
  },
  "language_info": {
   "codemirror_mode": {
    "name": "ipython",
    "version": 3
   },
   "file_extension": ".py",
   "mimetype": "text/x-python",
   "name": "python",
   "nbconvert_exporter": "python",
   "pygments_lexer": "ipython3",
   "version": "3.8.0"
  }
 },
 "nbformat": 4,
 "nbformat_minor": 2
}
